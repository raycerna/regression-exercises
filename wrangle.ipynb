{
 "cells": [
  {
   "cell_type": "code",
   "execution_count": 1,
   "id": "f1964b96",
   "metadata": {},
   "outputs": [],
   "source": [
    "import pandas as pd\n",
    "import numpy as np\n",
    "import seaborn as sns\n",
    "import matplotlib.pyplot as plt\n",
    "from env import get_db_url"
   ]
  },
  {
   "cell_type": "code",
   "execution_count": 2,
   "id": "58c378ea",
   "metadata": {},
   "outputs": [
    {
     "data": {
      "text/html": [
       "<div>\n",
       "<style scoped>\n",
       "    .dataframe tbody tr th:only-of-type {\n",
       "        vertical-align: middle;\n",
       "    }\n",
       "\n",
       "    .dataframe tbody tr th {\n",
       "        vertical-align: top;\n",
       "    }\n",
       "\n",
       "    .dataframe thead th {\n",
       "        text-align: right;\n",
       "    }\n",
       "</style>\n",
       "<table border=\"1\" class=\"dataframe\">\n",
       "  <thead>\n",
       "    <tr style=\"text-align: right;\">\n",
       "      <th></th>\n",
       "      <th>bedroomcnt</th>\n",
       "      <th>bathroomcnt</th>\n",
       "      <th>calculatedfinishedsquarefeet</th>\n",
       "      <th>taxvaluedollarcnt</th>\n",
       "      <th>yearbuilt</th>\n",
       "      <th>taxamount</th>\n",
       "      <th>fips</th>\n",
       "    </tr>\n",
       "  </thead>\n",
       "  <tbody>\n",
       "    <tr>\n",
       "      <th>0</th>\n",
       "      <td>0.0</td>\n",
       "      <td>0.0</td>\n",
       "      <td>NaN</td>\n",
       "      <td>27516.0</td>\n",
       "      <td>NaN</td>\n",
       "      <td>NaN</td>\n",
       "      <td>6037.0</td>\n",
       "    </tr>\n",
       "    <tr>\n",
       "      <th>1</th>\n",
       "      <td>0.0</td>\n",
       "      <td>0.0</td>\n",
       "      <td>NaN</td>\n",
       "      <td>10.0</td>\n",
       "      <td>NaN</td>\n",
       "      <td>NaN</td>\n",
       "      <td>6037.0</td>\n",
       "    </tr>\n",
       "    <tr>\n",
       "      <th>2</th>\n",
       "      <td>0.0</td>\n",
       "      <td>0.0</td>\n",
       "      <td>NaN</td>\n",
       "      <td>10.0</td>\n",
       "      <td>NaN</td>\n",
       "      <td>NaN</td>\n",
       "      <td>6037.0</td>\n",
       "    </tr>\n",
       "    <tr>\n",
       "      <th>3</th>\n",
       "      <td>0.0</td>\n",
       "      <td>0.0</td>\n",
       "      <td>NaN</td>\n",
       "      <td>2108.0</td>\n",
       "      <td>NaN</td>\n",
       "      <td>174.21</td>\n",
       "      <td>6037.0</td>\n",
       "    </tr>\n",
       "    <tr>\n",
       "      <th>4</th>\n",
       "      <td>4.0</td>\n",
       "      <td>2.0</td>\n",
       "      <td>3633.0</td>\n",
       "      <td>296425.0</td>\n",
       "      <td>2005.0</td>\n",
       "      <td>6941.39</td>\n",
       "      <td>6037.0</td>\n",
       "    </tr>\n",
       "  </tbody>\n",
       "</table>\n",
       "</div>"
      ],
      "text/plain": [
       "   bedroomcnt  bathroomcnt  calculatedfinishedsquarefeet  taxvaluedollarcnt  \\\n",
       "0         0.0          0.0                           NaN            27516.0   \n",
       "1         0.0          0.0                           NaN               10.0   \n",
       "2         0.0          0.0                           NaN               10.0   \n",
       "3         0.0          0.0                           NaN             2108.0   \n",
       "4         4.0          2.0                        3633.0           296425.0   \n",
       "\n",
       "   yearbuilt  taxamount    fips  \n",
       "0        NaN        NaN  6037.0  \n",
       "1        NaN        NaN  6037.0  \n",
       "2        NaN        NaN  6037.0  \n",
       "3        NaN     174.21  6037.0  \n",
       "4     2005.0    6941.39  6037.0  "
      ]
     },
     "execution_count": 2,
     "metadata": {},
     "output_type": "execute_result"
    }
   ],
   "source": [
    "# Find all of the \"Single Family Residential\" properties from 2017.\n",
    "sql = \"\"\"\n",
    "select \n",
    "bedroomcnt, bathroomcnt, calculatedfinishedsquarefeet, taxvaluedollarcnt, yearbuilt, taxamount, fips\n",
    "from properties_2017\n",
    "join propertylandusetype using (propertylandusetypeid)\n",
    "where propertylandusedesc = \"Single Family Residential\"\n",
    "\"\"\"\n",
    "\n",
    "df = pd.read_sql(sql, get_db_url(\"zillow\"))\n",
    "df.head()"
   ]
  },
  {
   "cell_type": "code",
   "execution_count": 3,
   "id": "f9d87e91",
   "metadata": {},
   "outputs": [
    {
     "data": {
      "text/plain": [
       "bedroomcnt                      0.000005\n",
       "bathroomcnt                     0.000005\n",
       "calculatedfinishedsquarefeet    0.003941\n",
       "taxvaluedollarcnt               0.000229\n",
       "yearbuilt                       0.004337\n",
       "taxamount                       0.002063\n",
       "fips                            0.000000\n",
       "dtype: float64"
      ]
     },
     "execution_count": 3,
     "metadata": {},
     "output_type": "execute_result"
    }
   ],
   "source": [
    "# What's the percentage of nulls?\n",
    "df.isna().mean()"
   ]
  },
  {
   "cell_type": "code",
   "execution_count": 4,
   "id": "2663c96a",
   "metadata": {},
   "outputs": [],
   "source": [
    "# renaming columns\n",
    "df = df.rename(columns = {'bedroomcnt':'bedrooms', \n",
    "                          'bathroomcnt':'bathrooms', \n",
    "                          'calculatedfinishedsquarefeet':'area',\n",
    "                          'taxvaluedollarcnt':'tax_value', \n",
    "                          'yearbuilt':'year_built'})"
   ]
  },
  {
   "cell_type": "code",
   "execution_count": 5,
   "id": "37d0b60b",
   "metadata": {},
   "outputs": [
    {
     "data": {
      "text/plain": [
       "0.9941"
      ]
     },
     "execution_count": 5,
     "metadata": {},
     "output_type": "execute_result"
    }
   ],
   "source": [
    "# If we drop all rows containing any null, how much data do we have left?\n",
    "round(df.dropna().shape[0] / df.shape[0], 4)"
   ]
  },
  {
   "cell_type": "code",
   "execution_count": 6,
   "id": "ff28b083",
   "metadata": {},
   "outputs": [
    {
     "data": {
      "text/plain": [
       "2152863"
      ]
     },
     "execution_count": 6,
     "metadata": {},
     "output_type": "execute_result"
    }
   ],
   "source": [
    "df.shape[0]"
   ]
  },
  {
   "cell_type": "code",
   "execution_count": 7,
   "id": "d24bbc2e",
   "metadata": {},
   "outputs": [],
   "source": [
    "# I'm comfortable dropping the rows with nulls\n",
    "df = df.dropna()"
   ]
  },
  {
   "cell_type": "code",
   "execution_count": 8,
   "id": "8a7b4ad0",
   "metadata": {
    "scrolled": false
   },
   "outputs": [
    {
     "data": {
      "text/plain": [
       "['bedrooms',\n",
       " 'bathrooms',\n",
       " 'area',\n",
       " 'tax_value',\n",
       " 'year_built',\n",
       " 'taxamount',\n",
       " 'fips']"
      ]
     },
     "execution_count": 8,
     "metadata": {},
     "output_type": "execute_result"
    }
   ],
   "source": [
    "df.columns.tolist()"
   ]
  },
  {
   "cell_type": "code",
   "execution_count": 9,
   "id": "58ff15a4",
   "metadata": {},
   "outputs": [
    {
     "name": "stdout",
     "output_type": "stream",
     "text": [
      "bedrooms\n",
      "3.0     962944\n",
      "4.0     633608\n",
      "2.0     334221\n",
      "5.0     150671\n",
      "6.0      25117\n",
      "1.0      22895\n",
      "7.0       4792\n",
      "0.0       4397\n",
      "8.0       1103\n",
      "9.0        290\n",
      "10.0       118\n",
      "11.0        34\n",
      "13.0        15\n",
      "12.0        12\n",
      "14.0         7\n",
      "15.0         5\n",
      "18.0         3\n",
      "16.0         2\n",
      "25.0         1\n",
      "Name: bedrooms, dtype: int64\n",
      "-----------------\n",
      "bathrooms\n",
      "2.00     942463\n",
      "3.00     422398\n",
      "1.00     412582\n",
      "2.50     142827\n",
      "4.00      82039\n",
      "1.50      31157\n",
      "3.50      28464\n",
      "5.00      28306\n",
      "4.50      19474\n",
      "6.00      10717\n",
      "5.50       6201\n",
      "7.00       4381\n",
      "0.00       4274\n",
      "8.00       1681\n",
      "6.50       1330\n",
      "9.00        707\n",
      "7.50        382\n",
      "10.00       322\n",
      "11.00       145\n",
      "8.50        108\n",
      "12.00        73\n",
      "9.50         50\n",
      "13.00        39\n",
      "14.00        25\n",
      "15.00        17\n",
      "0.50         16\n",
      "10.50        14\n",
      "16.00        12\n",
      "18.00         8\n",
      "20.00         6\n",
      "17.00         4\n",
      "1.75          3\n",
      "12.50         3\n",
      "11.50         3\n",
      "19.50         1\n",
      "14.50         1\n",
      "32.00         1\n",
      "19.00         1\n",
      "Name: bathrooms, dtype: int64\n",
      "-----------------\n",
      "area\n",
      "1200.0     5184\n",
      "1080.0     4376\n",
      "1120.0     4354\n",
      "1400.0     3828\n",
      "1440.0     3684\n",
      "           ... \n",
      "10180.0       1\n",
      "13169.0       1\n",
      "9095.0        1\n",
      "10525.0       1\n",
      "24920.0       1\n",
      "Name: area, Length: 10557, dtype: int64\n",
      "-----------------\n",
      "tax_value\n",
      "450000.0    820\n",
      "500000.0    774\n",
      "400000.0    723\n",
      "430000.0    690\n",
      "440000.0    683\n",
      "           ... \n",
      "729523.0      1\n",
      "940139.0      1\n",
      "545367.0      1\n",
      "38804.0       1\n",
      "536061.0      1\n",
      "Name: tax_value, Length: 588178, dtype: int64\n",
      "-----------------\n",
      "year_built\n",
      "1955.0    84329\n",
      "1950.0    71606\n",
      "1954.0    69069\n",
      "1953.0    62270\n",
      "1956.0    61858\n",
      "          ...  \n",
      "1855.0        1\n",
      "1879.0        1\n",
      "1833.0        1\n",
      "1840.0        1\n",
      "1874.0        1\n",
      "Name: year_built, Length: 153, dtype: int64\n",
      "-----------------\n",
      "taxamount\n",
      "345.72      172\n",
      "344.18       76\n",
      "343.52       74\n",
      "49.18        46\n",
      "388.18       37\n",
      "           ... \n",
      "8191.38       1\n",
      "11627.92      1\n",
      "15008.68      1\n",
      "9227.22       1\n",
      "13494.52      1\n",
      "Name: taxamount, Length: 915868, dtype: int64\n",
      "-----------------\n",
      "fips\n",
      "6037.0    1425207\n",
      "6059.0     552057\n",
      "6111.0     162971\n",
      "Name: fips, dtype: int64\n",
      "-----------------\n"
     ]
    }
   ],
   "source": [
    "for column in df.columns:\n",
    "    print(column)\n",
    "    print(df[column].value_counts())\n",
    "    print(\"-----------------\")"
   ]
  },
  {
   "cell_type": "markdown",
   "id": "c813e69b",
   "metadata": {},
   "source": [
    "### Takeaways so far:\n",
    "- Bedrooms can be an integer\n",
    "- Bathrooms can stay a float to keep the .5 bathrooms\n",
    "- Year built, FIPS, and taxvaluedollarcnt can be converted to integers w/o data loss"
   ]
  },
  {
   "cell_type": "code",
   "execution_count": 10,
   "id": "6810bb95",
   "metadata": {},
   "outputs": [
    {
     "data": {
      "text/plain": [
       "1.0"
      ]
     },
     "execution_count": 10,
     "metadata": {},
     "output_type": "execute_result"
    }
   ],
   "source": [
    "# 100% of calculatedfinishedsquarefeet can be converted to int w/o data loss\n",
    "(df.area == df.area.astype(int)).mean()"
   ]
  },
  {
   "cell_type": "code",
   "execution_count": 11,
   "id": "ecd27b54",
   "metadata": {},
   "outputs": [
    {
     "data": {
      "text/plain": [
       "1.0"
      ]
     },
     "execution_count": 11,
     "metadata": {},
     "output_type": "execute_result"
    }
   ],
   "source": [
    "# 100% of taxvaluedollarcnt can lose the deicimal and be OK\n",
    "(df.tax_value == df.tax_value.astype(int)).mean()"
   ]
  },
  {
   "cell_type": "code",
   "execution_count": 12,
   "id": "e3ffc297",
   "metadata": {},
   "outputs": [
    {
     "data": {
      "text/plain": [
       "0.8925192794249229"
      ]
     },
     "execution_count": 12,
     "metadata": {},
     "output_type": "execute_result"
    }
   ],
   "source": [
    "(df.bathrooms == df.bathrooms.astype(int)).mean()"
   ]
  },
  {
   "cell_type": "code",
   "execution_count": 13,
   "id": "69719e04",
   "metadata": {},
   "outputs": [],
   "source": [
    "# fips, yearbuilt, and bedrooms can be integers\n",
    "df[\"fips\"] = df[\"fips\"].astype(int)\n",
    "df[\"year_built\"] = df[\"year_built\"].astype(int)\n",
    "df[\"bedrooms\"] = df[\"bedrooms\"].astype(int)\n",
    "df[\"tax_value\"] = df[\"tax_value\"].astype(int)\n",
    "df[\"area\"] = df[\"area\"].astype(int)"
   ]
  },
  {
   "cell_type": "code",
   "execution_count": 14,
   "id": "926e60a2",
   "metadata": {},
   "outputs": [
    {
     "data": {
      "text/plain": [
       "bedrooms        int64\n",
       "bathrooms     float64\n",
       "area            int64\n",
       "tax_value       int64\n",
       "year_built      int64\n",
       "taxamount     float64\n",
       "fips            int64\n",
       "dtype: object"
      ]
     },
     "execution_count": 14,
     "metadata": {},
     "output_type": "execute_result"
    }
   ],
   "source": [
    "df.dtypes"
   ]
  },
  {
   "cell_type": "markdown",
   "id": "12b2e1f4",
   "metadata": {},
   "source": [
    "## Above Data Wrangling now lives in `wrangle.py`\n",
    "- There's also a CSV caching layer in the wrangle_zillow function."
   ]
  },
  {
   "cell_type": "markdown",
   "id": "1c5f84eb",
   "metadata": {},
   "source": [
    "# Histogram All The Things!"
   ]
  },
  {
   "cell_type": "code",
   "execution_count": 15,
   "id": "86780e1b",
   "metadata": {
    "scrolled": true
   },
   "outputs": [
    {
     "data": {
      "image/png": "[encoded data removed]",
      "text/plain": [
       "<Figure size 1152x216 with 7 Axes>"
      ]
     },
     "metadata": {
      "needs_background": "light"
     },
     "output_type": "display_data"
    }
   ],
   "source": [
    "plt.figure(figsize=(16, 3))\n",
    "\n",
    "# List of columns\n",
    "for i, col in enumerate(df.columns):\n",
    "\n",
    "    # i starts at 0, but plot nos should start at 1\n",
    "    plot_number = i + 1 \n",
    "\n",
    "    # Create subplot.\n",
    "    plt.subplot(1,8, plot_number)\n",
    "\n",
    "    # Title with column name.\n",
    "    plt.title(col)\n",
    "\n",
    "    # Display histogram for column.\n",
    "    df[col].hist(bins=5)\n",
    "\n",
    "    # Hide gridlines.\n",
    "    plt.grid(False)\n"
   ]
  },
  {
   "cell_type": "markdown",
   "id": "4a8b6f5c",
   "metadata": {},
   "source": [
    "## Just Because It's Automatable Doesn't Mean It's Legible :)"
   ]
  },
  {
   "cell_type": "code",
   "execution_count": 16,
   "id": "8d10bdf5",
   "metadata": {
    "scrolled": false
   },
   "outputs": [
    {
     "name": "stdout",
     "output_type": "stream",
     "text": [
      "bedrooms\n"
     ]
    },
    {
     "data": {
      "image/png": "[encoded data removed]",
      "text/plain": [
       "<Figure size 432x288 with 1 Axes>"
      ]
     },
     "metadata": {
      "needs_background": "light"
     },
     "output_type": "display_data"
    },
    {
     "name": "stdout",
     "output_type": "stream",
     "text": [
      "bathrooms\n"
     ]
    },
    {
     "data": {
      "image/png": "[encoded data removed]",
      "text/plain": [
       "<Figure size 432x288 with 1 Axes>"
      ]
     },
     "metadata": {
      "needs_background": "light"
     },
     "output_type": "display_data"
    },
    {
     "name": "stdout",
     "output_type": "stream",
     "text": [
      "area\n"
     ]
    },
    {
     "data": {
      "image/png": "[encoded data removed]",
      "text/plain": [
       "<Figure size 432x288 with 1 Axes>"
      ]
     },
     "metadata": {
      "needs_background": "light"
     },
     "output_type": "display_data"
    },
    {
     "name": "stdout",
     "output_type": "stream",
     "text": [
      "tax_value\n"
     ]
    },
    {
     "data": {
      "image/png": "[encoded data removed]",
      "text/plain": [
       "<Figure size 432x288 with 1 Axes>"
      ]
     },
     "metadata": {
      "needs_background": "light"
     },
     "output_type": "display_data"
    },
    {
     "name": "stdout",
     "output_type": "stream",
     "text": [
      "year_built\n"
     ]
    },
    {
     "data": {
      "image/png": "[encoded data removed]",
      "text/plain": [
       "<Figure size 432x288 with 1 Axes>"
      ]
     },
     "metadata": {
      "needs_background": "light"
     },
     "output_type": "display_data"
    },
    {
     "name": "stdout",
     "output_type": "stream",
     "text": [
      "taxamount\n"
     ]
    },
    {
     "data": {
      "image/png": "[encoded data removed]",
      "text/plain": [
       "<Figure size 432x288 with 1 Axes>"
      ]
     },
     "metadata": {
      "needs_background": "light"
     },
     "output_type": "display_data"
    },
    {
     "name": "stdout",
     "output_type": "stream",
     "text": [
      "fips\n"
     ]
    },
    {
     "data": {
      "image/png": "[encoded data removed]",
      "text/plain": [
       "<Figure size 432x288 with 1 Axes>"
      ]
     },
     "metadata": {
      "needs_background": "light"
     },
     "output_type": "display_data"
    }
   ],
   "source": [
    "for col in df.columns:\n",
    "    print(col)\n",
    "    plt.title(col)\n",
    "    df[col].hist()\n",
    "    plt.show()"
   ]
  },
  {
   "cell_type": "markdown",
   "id": "5c0b5571",
   "metadata": {},
   "source": [
    "## Let's See about handling outliers\n",
    "- I'm going to remove properties that are larger than half a football field, 25000 sqft (46 records)\n",
    "- Those >= 25_000 sqft properties average a tax value north of $21m. \n",
    "- I'm going "
   ]
  },
  {
   "cell_type": "code",
   "execution_count": 17,
   "id": "7d0e8c94",
   "metadata": {},
   "outputs": [
    {
     "data": {
      "text/plain": [
       "849924     952576\n",
       "1689332    531118\n",
       "1432166     63692\n",
       "830510      59220\n",
       "530834      52503\n",
       "1327785     45891\n",
       "401550      42831\n",
       "1657947     39170\n",
       "2080790     37634\n",
       "430684      37472\n",
       "Name: area, dtype: int64"
      ]
     },
     "execution_count": 17,
     "metadata": {},
     "output_type": "execute_result"
    }
   ],
   "source": [
    "# A football field is 57,600 square feet\n",
    "df.area.sort_values(ascending=False).head(10)"
   ]
  },
  {
   "cell_type": "code",
   "execution_count": 18,
   "id": "13b65f3c",
   "metadata": {},
   "outputs": [
    {
     "data": {
      "text/plain": [
       "21324849.826086957"
      ]
     },
     "execution_count": 18,
     "metadata": {},
     "output_type": "execute_result"
    }
   ],
   "source": [
    "df[df.area >= 25_000].tax_value.mean()"
   ]
  },
  {
   "cell_type": "code",
   "execution_count": 19,
   "id": "6bf5dfc9",
   "metadata": {},
   "outputs": [
    {
     "data": {
      "text/plain": [
       "3     962944\n",
       "4     633608\n",
       "2     334221\n",
       "5     150671\n",
       "6      25117\n",
       "1      22895\n",
       "7       4792\n",
       "0       4397\n",
       "8       1103\n",
       "9        290\n",
       "10       118\n",
       "11        34\n",
       "13        15\n",
       "12        12\n",
       "14         7\n",
       "15         5\n",
       "18         3\n",
       "16         2\n",
       "25         1\n",
       "Name: bedrooms, dtype: int64"
      ]
     },
     "execution_count": 19,
     "metadata": {},
     "output_type": "execute_result"
    }
   ],
   "source": [
    "# Most Zillow customers share more in common with you and me than a movie star with 25 bedrooms.\n",
    "df.bedrooms.value_counts()"
   ]
  },
  {
   "cell_type": "code",
   "execution_count": 20,
   "id": "d1174502",
   "metadata": {},
   "outputs": [
    {
     "data": {
      "text/plain": [
       "1657947    32.0\n",
       "1114403    20.0\n",
       "2051558    20.0\n",
       "26485      20.0\n",
       "1174755    20.0\n",
       "1618393    20.0\n",
       "701366     20.0\n",
       "32114      19.5\n",
       "2135273    19.0\n",
       "1758193    18.0\n",
       "1553895    18.0\n",
       "1273779    18.0\n",
       "570561     18.0\n",
       "1012171    18.0\n",
       "253517     18.0\n",
       "799516     18.0\n",
       "1811787    18.0\n",
       "572169     17.0\n",
       "1671890    17.0\n",
       "843041     17.0\n",
       "1144383    17.0\n",
       "818240     16.0\n",
       "1432079    16.0\n",
       "549141     16.0\n",
       "1866663    16.0\n",
       "154074     16.0\n",
       "1151694    16.0\n",
       "2138637    16.0\n",
       "1316950    16.0\n",
       "1090763    16.0\n",
       "Name: bathrooms, dtype: float64"
      ]
     },
     "execution_count": 20,
     "metadata": {},
     "output_type": "execute_result"
    }
   ],
   "source": [
    "df.bathrooms.sort_values(ascending=False).head(30)"
   ]
  },
  {
   "cell_type": "markdown",
   "id": "af1eda0d",
   "metadata": {},
   "source": [
    "## Manual Outlier Detection and Filtering\n",
    "\n",
    "> WHO is actually using Zillow? Is it folks with 25 bedrooms? Or folks who shop closer to you and me?\n"
   ]
  },
  {
   "cell_type": "code",
   "execution_count": 21,
   "id": "7b37718f",
   "metadata": {},
   "outputs": [
    {
     "data": {
      "text/plain": [
       "0.9956481414424116"
      ]
     },
     "execution_count": 21,
     "metadata": {},
     "output_type": "execute_result"
    }
   ],
   "source": [
    "# What percentage of properties have 6 or less bathrooms?\n",
    "df[df.bathrooms <= 6].shape[0] / df.shape[0]"
   ]
  },
  {
   "cell_type": "code",
   "execution_count": 22,
   "id": "1fe02350",
   "metadata": {},
   "outputs": [
    {
     "data": {
      "text/plain": [
       "0.9970180844626875"
      ]
     },
     "execution_count": 22,
     "metadata": {},
     "output_type": "execute_result"
    }
   ],
   "source": [
    "# What percentage of properties have 6 or less bedrooms?\n",
    "df[df.bedrooms <= 6].shape[0] / df.shape[0]"
   ]
  },
  {
   "cell_type": "code",
   "execution_count": 23,
   "id": "e7790c76",
   "metadata": {},
   "outputs": [
    {
     "data": {
      "text/plain": [
       "0.9673507815730515"
      ]
     },
     "execution_count": 23,
     "metadata": {},
     "output_type": "execute_result"
    }
   ],
   "source": [
    "# What percentage of properties are less than $2m in tax value?\n",
    "df[df.tax_value < 1_500_000].shape[0] / df.shape[0]"
   ]
  },
  {
   "cell_type": "code",
   "execution_count": 24,
   "id": "b69eabe9",
   "metadata": {},
   "outputs": [],
   "source": [
    "# Import the wrangle_zillow where I've dropped some outliers already\n",
    "from wrangle import wrangle_zillow"
   ]
  },
  {
   "cell_type": "code",
   "execution_count": 25,
   "id": "7a4aa4ae",
   "metadata": {},
   "outputs": [],
   "source": [
    "df = wrangle_zillow()"
   ]
  },
  {
   "cell_type": "code",
   "execution_count": 26,
   "id": "c7cddf3c",
   "metadata": {},
   "outputs": [
    {
     "data": {
      "text/html": [
       "<div>\n",
       "<style scoped>\n",
       "    .dataframe tbody tr th:only-of-type {\n",
       "        vertical-align: middle;\n",
       "    }\n",
       "\n",
       "    .dataframe tbody tr th {\n",
       "        vertical-align: top;\n",
       "    }\n",
       "\n",
       "    .dataframe thead th {\n",
       "        text-align: right;\n",
       "    }\n",
       "</style>\n",
       "<table border=\"1\" class=\"dataframe\">\n",
       "  <thead>\n",
       "    <tr style=\"text-align: right;\">\n",
       "      <th></th>\n",
       "      <th>bedrooms</th>\n",
       "      <th>bathrooms</th>\n",
       "      <th>area</th>\n",
       "      <th>tax_value</th>\n",
       "      <th>year_built</th>\n",
       "      <th>taxamount</th>\n",
       "      <th>fips</th>\n",
       "    </tr>\n",
       "  </thead>\n",
       "  <tbody>\n",
       "    <tr>\n",
       "      <th>0</th>\n",
       "      <td>4</td>\n",
       "      <td>2.0</td>\n",
       "      <td>3633</td>\n",
       "      <td>296425</td>\n",
       "      <td>2005</td>\n",
       "      <td>6941.39</td>\n",
       "      <td>6037</td>\n",
       "    </tr>\n",
       "    <tr>\n",
       "      <th>1</th>\n",
       "      <td>3</td>\n",
       "      <td>4.0</td>\n",
       "      <td>1620</td>\n",
       "      <td>847770</td>\n",
       "      <td>2011</td>\n",
       "      <td>10244.94</td>\n",
       "      <td>6037</td>\n",
       "    </tr>\n",
       "    <tr>\n",
       "      <th>2</th>\n",
       "      <td>3</td>\n",
       "      <td>2.0</td>\n",
       "      <td>2077</td>\n",
       "      <td>646760</td>\n",
       "      <td>1926</td>\n",
       "      <td>7924.68</td>\n",
       "      <td>6037</td>\n",
       "    </tr>\n",
       "    <tr>\n",
       "      <th>3</th>\n",
       "      <td>0</td>\n",
       "      <td>0.0</td>\n",
       "      <td>1200</td>\n",
       "      <td>5328</td>\n",
       "      <td>1972</td>\n",
       "      <td>91.60</td>\n",
       "      <td>6037</td>\n",
       "    </tr>\n",
       "    <tr>\n",
       "      <th>4</th>\n",
       "      <td>0</td>\n",
       "      <td>0.0</td>\n",
       "      <td>171</td>\n",
       "      <td>6920</td>\n",
       "      <td>1973</td>\n",
       "      <td>255.17</td>\n",
       "      <td>6037</td>\n",
       "    </tr>\n",
       "  </tbody>\n",
       "</table>\n",
       "</div>"
      ],
      "text/plain": [
       "   bedrooms  bathrooms  area  tax_value  year_built  taxamount  fips\n",
       "0         4        2.0  3633     296425        2005    6941.39  6037\n",
       "1         3        4.0  1620     847770        2011   10244.94  6037\n",
       "2         3        2.0  2077     646760        1926    7924.68  6037\n",
       "3         0        0.0  1200       5328        1972      91.60  6037\n",
       "4         0        0.0   171       6920        1973     255.17  6037"
      ]
     },
     "execution_count": 26,
     "metadata": {},
     "output_type": "execute_result"
    }
   ],
   "source": [
    "df.head()"
   ]
  },
  {
   "cell_type": "code",
   "execution_count": 27,
   "id": "75d0d838",
   "metadata": {
    "scrolled": false
   },
   "outputs": [
    {
     "name": "stdout",
     "output_type": "stream",
     "text": [
      "bedrooms\n"
     ]
    },
    {
     "data": {
      "image/png": "[encoded data removed]",
      "text/plain": [
       "<Figure size 432x288 with 1 Axes>"
      ]
     },
     "metadata": {
      "needs_background": "light"
     },
     "output_type": "display_data"
    },
    {
     "name": "stdout",
     "output_type": "stream",
     "text": [
      "bathrooms\n"
     ]
    },
    {
     "data": {
      "image/png": "[encoded data removed]",
      "text/plain": [
       "<Figure size 432x288 with 1 Axes>"
      ]
     },
     "metadata": {
      "needs_background": "light"
     },
     "output_type": "display_data"
    },
    {
     "name": "stdout",
     "output_type": "stream",
     "text": [
      "area\n"
     ]
    },
    {
     "data": {
      "image/png": "[encoded data removed]",
      "text/plain": [
       "<Figure size 432x288 with 1 Axes>"
      ]
     },
     "metadata": {
      "needs_background": "light"
     },
     "output_type": "display_data"
    },
    {
     "name": "stdout",
     "output_type": "stream",
     "text": [
      "tax_value\n"
     ]
    },
    {
     "data": {
      "image/png": "[encoded data removed]",
      "text/plain": [
       "<Figure size 432x288 with 1 Axes>"
      ]
     },
     "metadata": {
      "needs_background": "light"
     },
     "output_type": "display_data"
    },
    {
     "name": "stdout",
     "output_type": "stream",
     "text": [
      "year_built\n"
     ]
    },
    {
     "data": {
      "image/png": "[encoded data removed]",
      "text/plain": [
       "<Figure size 432x288 with 1 Axes>"
      ]
     },
     "metadata": {
      "needs_background": "light"
     },
     "output_type": "display_data"
    },
    {
     "name": "stdout",
     "output_type": "stream",
     "text": [
      "taxamount\n"
     ]
    },
    {
     "data": {
      "image/png": "[encoded data removed]",
      "text/plain": [
       "<Figure size 432x288 with 1 Axes>"
      ]
     },
     "metadata": {
      "needs_background": "light"
     },
     "output_type": "display_data"
    },
    {
     "name": "stdout",
     "output_type": "stream",
     "text": [
      "fips\n"
     ]
    },
    {
     "data": {
      "image/png": "[encoded data removed]",
      "text/plain": [
       "<Figure size 432x288 with 1 Axes>"
      ]
     },
     "metadata": {
      "needs_background": "light"
     },
     "output_type": "display_data"
    }
   ],
   "source": [
    "for col in df.columns:\n",
    "    print(col)\n",
    "    df[col].hist()\n",
    "    plt.show()"
   ]
  },
  {
   "cell_type": "code",
   "execution_count": null,
   "id": "4df98538",
   "metadata": {},
   "outputs": [],
   "source": []
  },
  {
   "cell_type": "code",
   "execution_count": null,
   "id": "bf11b4d8",
   "metadata": {},
   "outputs": [],
   "source": []
  }
 ],
 "metadata": {
  "kernelspec": {
   "display_name": "Python 3 (ipykernel)",
   "language": "python",
   "name": "python3"
  },
  "language_info": {
   "codemirror_mode": {
    "name": "ipython",
    "version": 3
   },
   "file_extension": ".py",
   "mimetype": "text/x-python",
   "name": "python",
   "nbconvert_exporter": "python",
   "pygments_lexer": "ipython3",
   "version": "3.9.7"
  }
 },
 "nbformat": 4,
 "nbformat_minor": 5
}
