{
 "cells": [
  {
   "cell_type": "code",
   "execution_count": 1,
   "id": "61890fc0",
   "metadata": {},
   "outputs": [],
   "source": [
    "import pandas as pd\n",
    "import numpy as np\n",
    "import wrangle\n",
    "import matplotlib.pyplot as plt\n",
    "import math\n",
    "import warnings\n",
    "warnings.filterwarnings(\"ignore\")\n",
    "import seaborn as sns\n",
    "import statsmodels.api as sm\n",
    "\n",
    "from sklearn.model_selection import train_test_split\n",
    "from sklearn.metrics import mean_squared_error, explained_variance_score\n",
    "from sklearn.linear_model import LinearRegression, LassoLars\n",
    "from sklearn.feature_selection import RFE\n",
    "\n",
    "from sklearn.metrics import mean_squared_error, r2_score\n",
    "from sklearn.preprocessing import PolynomialFeatures\n",
    "\n",
    "import wrangle"
   ]
  },
  {
   "cell_type": "code",
   "execution_count": 2,
   "id": "14e330f7",
   "metadata": {},
   "outputs": [
    {
     "data": {
      "text/html": [
       "<div>\n",
       "<style scoped>\n",
       "    .dataframe tbody tr th:only-of-type {\n",
       "        vertical-align: middle;\n",
       "    }\n",
       "\n",
       "    .dataframe tbody tr th {\n",
       "        vertical-align: top;\n",
       "    }\n",
       "\n",
       "    .dataframe thead th {\n",
       "        text-align: right;\n",
       "    }\n",
       "</style>\n",
       "<table border=\"1\" class=\"dataframe\">\n",
       "  <thead>\n",
       "    <tr style=\"text-align: right;\">\n",
       "      <th></th>\n",
       "      <th>bedrooms</th>\n",
       "      <th>bathrooms</th>\n",
       "      <th>area</th>\n",
       "      <th>tax_value</th>\n",
       "      <th>year_built</th>\n",
       "      <th>tax_amount</th>\n",
       "      <th>fips</th>\n",
       "    </tr>\n",
       "  </thead>\n",
       "  <tbody>\n",
       "    <tr>\n",
       "      <th>0</th>\n",
       "      <td>4</td>\n",
       "      <td>2.0</td>\n",
       "      <td>3633</td>\n",
       "      <td>296425</td>\n",
       "      <td>2005</td>\n",
       "      <td>6941.39</td>\n",
       "      <td>6037</td>\n",
       "    </tr>\n",
       "    <tr>\n",
       "      <th>1</th>\n",
       "      <td>3</td>\n",
       "      <td>4.0</td>\n",
       "      <td>1620</td>\n",
       "      <td>847770</td>\n",
       "      <td>2011</td>\n",
       "      <td>10244.94</td>\n",
       "      <td>6037</td>\n",
       "    </tr>\n",
       "    <tr>\n",
       "      <th>2</th>\n",
       "      <td>3</td>\n",
       "      <td>2.0</td>\n",
       "      <td>2077</td>\n",
       "      <td>646760</td>\n",
       "      <td>1926</td>\n",
       "      <td>7924.68</td>\n",
       "      <td>6037</td>\n",
       "    </tr>\n",
       "    <tr>\n",
       "      <th>3</th>\n",
       "      <td>0</td>\n",
       "      <td>0.0</td>\n",
       "      <td>1200</td>\n",
       "      <td>5328</td>\n",
       "      <td>1972</td>\n",
       "      <td>91.60</td>\n",
       "      <td>6037</td>\n",
       "    </tr>\n",
       "    <tr>\n",
       "      <th>4</th>\n",
       "      <td>0</td>\n",
       "      <td>0.0</td>\n",
       "      <td>171</td>\n",
       "      <td>6920</td>\n",
       "      <td>1973</td>\n",
       "      <td>255.17</td>\n",
       "      <td>6037</td>\n",
       "    </tr>\n",
       "  </tbody>\n",
       "</table>\n",
       "</div>"
      ],
      "text/plain": [
       "   bedrooms  bathrooms  area  tax_value  year_built  tax_amount  fips\n",
       "0         4        2.0  3633     296425        2005     6941.39  6037\n",
       "1         3        4.0  1620     847770        2011    10244.94  6037\n",
       "2         3        2.0  2077     646760        1926     7924.68  6037\n",
       "3         0        0.0  1200       5328        1972       91.60  6037\n",
       "4         0        0.0   171       6920        1973      255.17  6037"
      ]
     },
     "execution_count": 2,
     "metadata": {},
     "output_type": "execute_result"
    }
   ],
   "source": [
    "df = wrangle.wrangle_zillow()\n",
    "df.head()"
   ]
  },
  {
   "cell_type": "code",
   "execution_count": 3,
   "id": "da6c37c3",
   "metadata": {},
   "outputs": [
    {
     "name": "stdout",
     "output_type": "stream",
     "text": [
      "(1508099, 7) (377025, 7) (209459, 7)\n"
     ]
    }
   ],
   "source": [
    "train_validate, test = train_test_split(df, test_size = 0.10, random_state = 123)\n",
    "train, validate = train_test_split(train_validate, test_size = 0.20, random_state = 123)\n",
    "print(train.shape, validate.shape, test.shape)"
   ]
  },
  {
   "cell_type": "code",
   "execution_count": 4,
   "id": "ad04a7d2",
   "metadata": {},
   "outputs": [
    {
     "data": {
      "text/plain": [
       "Index(['bedrooms', 'bathrooms', 'area', 'tax_value', 'year_built',\n",
       "       'tax_amount', 'fips'],\n",
       "      dtype='object')"
      ]
     },
     "execution_count": 4,
     "metadata": {},
     "output_type": "execute_result"
    }
   ],
   "source": [
    "train.columns"
   ]
  },
  {
   "cell_type": "code",
   "execution_count": 5,
   "id": "20336672",
   "metadata": {},
   "outputs": [],
   "source": [
    "\n",
    "train.drop(columns = ['bedrooms', 'bathrooms', 'year_built', 'tax_amount', 'fips'], inplace=True)"
   ]
  },
  {
   "cell_type": "code",
   "execution_count": 6,
   "id": "6b60fa11",
   "metadata": {},
   "outputs": [],
   "source": [
    "X_train = train[['area']]\n",
    "y_train = train['tax_value']\n",
    "\n",
    "X_validate = validate[['area']]\n",
    "y_validate = validate['tax_value']\n",
    "\n",
    "X_test = test[['area']]\n",
    "y_test = test['tax_value']"
   ]
  },
  {
   "cell_type": "code",
   "execution_count": 7,
   "id": "2defa60d",
   "metadata": {},
   "outputs": [
    {
     "data": {
      "text/html": [
       "<div>\n",
       "<style scoped>\n",
       "    .dataframe tbody tr th:only-of-type {\n",
       "        vertical-align: middle;\n",
       "    }\n",
       "\n",
       "    .dataframe tbody tr th {\n",
       "        vertical-align: top;\n",
       "    }\n",
       "\n",
       "    .dataframe thead th {\n",
       "        text-align: right;\n",
       "    }\n",
       "</style>\n",
       "<table border=\"1\" class=\"dataframe\">\n",
       "  <thead>\n",
       "    <tr style=\"text-align: right;\">\n",
       "      <th></th>\n",
       "      <th>area</th>\n",
       "    </tr>\n",
       "  </thead>\n",
       "  <tbody>\n",
       "    <tr>\n",
       "      <th>1054933</th>\n",
       "      <td>1451</td>\n",
       "    </tr>\n",
       "    <tr>\n",
       "      <th>584421</th>\n",
       "      <td>2604</td>\n",
       "    </tr>\n",
       "    <tr>\n",
       "      <th>1242400</th>\n",
       "      <td>1412</td>\n",
       "    </tr>\n",
       "    <tr>\n",
       "      <th>1557109</th>\n",
       "      <td>1520</td>\n",
       "    </tr>\n",
       "    <tr>\n",
       "      <th>857417</th>\n",
       "      <td>1252</td>\n",
       "    </tr>\n",
       "    <tr>\n",
       "      <th>...</th>\n",
       "      <td>...</td>\n",
       "    </tr>\n",
       "    <tr>\n",
       "      <th>1460544</th>\n",
       "      <td>892</td>\n",
       "    </tr>\n",
       "    <tr>\n",
       "      <th>1217528</th>\n",
       "      <td>2081</td>\n",
       "    </tr>\n",
       "    <tr>\n",
       "      <th>883362</th>\n",
       "      <td>1300</td>\n",
       "    </tr>\n",
       "    <tr>\n",
       "      <th>3819</th>\n",
       "      <td>936</td>\n",
       "    </tr>\n",
       "    <tr>\n",
       "      <th>947306</th>\n",
       "      <td>1512</td>\n",
       "    </tr>\n",
       "  </tbody>\n",
       "</table>\n",
       "<p>1508099 rows × 1 columns</p>\n",
       "</div>"
      ],
      "text/plain": [
       "         area\n",
       "1054933  1451\n",
       "584421   2604\n",
       "1242400  1412\n",
       "1557109  1520\n",
       "857417   1252\n",
       "...       ...\n",
       "1460544   892\n",
       "1217528  2081\n",
       "883362   1300\n",
       "3819      936\n",
       "947306   1512\n",
       "\n",
       "[1508099 rows x 1 columns]"
      ]
     },
     "execution_count": 7,
     "metadata": {},
     "output_type": "execute_result"
    }
   ],
   "source": [
    "X_train"
   ]
  },
  {
   "cell_type": "code",
   "execution_count": 8,
   "id": "61e2c879",
   "metadata": {},
   "outputs": [
    {
     "data": {
      "text/plain": [
       "1054933    560000\n",
       "584421     878869\n",
       "1242400    232923\n",
       "1557109    201628\n",
       "857417     613000\n",
       "            ...  \n",
       "1460544     30805\n",
       "1217528    584400\n",
       "883362     223488\n",
       "3819       452922\n",
       "947306      81776\n",
       "Name: tax_value, Length: 1508099, dtype: int64"
      ]
     },
     "execution_count": 8,
     "metadata": {},
     "output_type": "execute_result"
    }
   ],
   "source": [
    "y_train"
   ]
  },
  {
   "cell_type": "code",
   "execution_count": 9,
   "id": "5ea8611f",
   "metadata": {},
   "outputs": [
    {
     "data": {
      "text/plain": [
       "398646.0085040836"
      ]
     },
     "execution_count": 9,
     "metadata": {},
     "output_type": "execute_result"
    }
   ],
   "source": [
    "baseline = train.tax_value.mean()\n",
    "baseline"
   ]
  },
  {
   "cell_type": "code",
   "execution_count": 10,
   "id": "8994a5a8",
   "metadata": {},
   "outputs": [
    {
     "data": {
      "text/html": [
       "<div>\n",
       "<style scoped>\n",
       "    .dataframe tbody tr th:only-of-type {\n",
       "        vertical-align: middle;\n",
       "    }\n",
       "\n",
       "    .dataframe tbody tr th {\n",
       "        vertical-align: top;\n",
       "    }\n",
       "\n",
       "    .dataframe thead th {\n",
       "        text-align: right;\n",
       "    }\n",
       "</style>\n",
       "<table border=\"1\" class=\"dataframe\">\n",
       "  <thead>\n",
       "    <tr style=\"text-align: right;\">\n",
       "      <th></th>\n",
       "      <th>area</th>\n",
       "      <th>tax_value</th>\n",
       "      <th>baseline</th>\n",
       "    </tr>\n",
       "  </thead>\n",
       "  <tbody>\n",
       "    <tr>\n",
       "      <th>1054933</th>\n",
       "      <td>1451</td>\n",
       "      <td>560000</td>\n",
       "      <td>398646.008504</td>\n",
       "    </tr>\n",
       "    <tr>\n",
       "      <th>584421</th>\n",
       "      <td>2604</td>\n",
       "      <td>878869</td>\n",
       "      <td>398646.008504</td>\n",
       "    </tr>\n",
       "    <tr>\n",
       "      <th>1242400</th>\n",
       "      <td>1412</td>\n",
       "      <td>232923</td>\n",
       "      <td>398646.008504</td>\n",
       "    </tr>\n",
       "    <tr>\n",
       "      <th>1557109</th>\n",
       "      <td>1520</td>\n",
       "      <td>201628</td>\n",
       "      <td>398646.008504</td>\n",
       "    </tr>\n",
       "    <tr>\n",
       "      <th>857417</th>\n",
       "      <td>1252</td>\n",
       "      <td>613000</td>\n",
       "      <td>398646.008504</td>\n",
       "    </tr>\n",
       "  </tbody>\n",
       "</table>\n",
       "</div>"
      ],
      "text/plain": [
       "         area  tax_value       baseline\n",
       "1054933  1451     560000  398646.008504\n",
       "584421   2604     878869  398646.008504\n",
       "1242400  1412     232923  398646.008504\n",
       "1557109  1520     201628  398646.008504\n",
       "857417   1252     613000  398646.008504"
      ]
     },
     "execution_count": 10,
     "metadata": {},
     "output_type": "execute_result"
    }
   ],
   "source": [
    "train['baseline'] = train.tax_value.mean()\n",
    "train.head()"
   ]
  },
  {
   "cell_type": "code",
   "execution_count": 11,
   "id": "3dbc3a51",
   "metadata": {},
   "outputs": [
    {
     "data": {
      "image/png": "[encoded data removed]",
      "text/plain": [
       "<Figure size 432x288 with 1 Axes>"
      ]
     },
     "metadata": {
      "needs_background": "light"
     },
     "output_type": "display_data"
    }
   ],
   "source": [
    "# plot data with baseline:\n",
    "\n",
    "plt.scatter(train.area, train.tax_value)\n",
    "plt.axhline(train.tax_value.mean(), ls = ':')\n",
    "plt.xlabel('x = Square Feet')\n",
    "plt.ylabel('y = Tax Assessed Value')\n",
    "plt.title('Baseline model');"
   ]
  },
  {
   "cell_type": "code",
   "execution_count": 12,
   "id": "45b6c243",
   "metadata": {},
   "outputs": [],
   "source": [
    "model = LinearRegression().fit(X_train, y_train)\n",
    "predictions = model.predict(X_train)"
   ]
  },
  {
   "cell_type": "code",
   "execution_count": 13,
   "id": "8df5bb92",
   "metadata": {},
   "outputs": [
    {
     "data": {
      "text/html": [
       "<div>\n",
       "<style scoped>\n",
       "    .dataframe tbody tr th:only-of-type {\n",
       "        vertical-align: middle;\n",
       "    }\n",
       "\n",
       "    .dataframe tbody tr th {\n",
       "        vertical-align: top;\n",
       "    }\n",
       "\n",
       "    .dataframe thead th {\n",
       "        text-align: right;\n",
       "    }\n",
       "</style>\n",
       "<table border=\"1\" class=\"dataframe\">\n",
       "  <thead>\n",
       "    <tr style=\"text-align: right;\">\n",
       "      <th></th>\n",
       "      <th>area</th>\n",
       "      <th>tax_value</th>\n",
       "      <th>baseline</th>\n",
       "      <th>yhat</th>\n",
       "    </tr>\n",
       "  </thead>\n",
       "  <tbody>\n",
       "    <tr>\n",
       "      <th>1054933</th>\n",
       "      <td>1451</td>\n",
       "      <td>560000</td>\n",
       "      <td>398646.008504</td>\n",
       "      <td>363055.327137</td>\n",
       "    </tr>\n",
       "    <tr>\n",
       "      <th>584421</th>\n",
       "      <td>2604</td>\n",
       "      <td>878869</td>\n",
       "      <td>398646.008504</td>\n",
       "      <td>481454.397515</td>\n",
       "    </tr>\n",
       "    <tr>\n",
       "      <th>1242400</th>\n",
       "      <td>1412</td>\n",
       "      <td>232923</td>\n",
       "      <td>398646.008504</td>\n",
       "      <td>359050.501687</td>\n",
       "    </tr>\n",
       "    <tr>\n",
       "      <th>1557109</th>\n",
       "      <td>1520</td>\n",
       "      <td>201628</td>\n",
       "      <td>398646.008504</td>\n",
       "      <td>370140.787550</td>\n",
       "    </tr>\n",
       "    <tr>\n",
       "      <th>857417</th>\n",
       "      <td>1252</td>\n",
       "      <td>613000</td>\n",
       "      <td>398646.008504</td>\n",
       "      <td>342620.448555</td>\n",
       "    </tr>\n",
       "  </tbody>\n",
       "</table>\n",
       "</div>"
      ],
      "text/plain": [
       "         area  tax_value       baseline           yhat\n",
       "1054933  1451     560000  398646.008504  363055.327137\n",
       "584421   2604     878869  398646.008504  481454.397515\n",
       "1242400  1412     232923  398646.008504  359050.501687\n",
       "1557109  1520     201628  398646.008504  370140.787550\n",
       "857417   1252     613000  398646.008504  342620.448555"
      ]
     },
     "execution_count": 13,
     "metadata": {},
     "output_type": "execute_result"
    }
   ],
   "source": [
    "train['yhat'] = predictions\n",
    "train.head()"
   ]
  },
  {
   "cell_type": "code",
   "execution_count": 14,
   "id": "eacd0b1f",
   "metadata": {},
   "outputs": [
    {
     "data": {
      "image/png": "[encoded data removed]",
      "text/plain": [
       "<Figure size 432x288 with 1 Axes>"
      ]
     },
     "metadata": {
      "needs_background": "light"
     },
     "output_type": "display_data"
    }
   ],
   "source": [
    "# visualize the line of best fit from OLS linear model\n",
    "plt.scatter(train.area, train.tax_value)\n",
    "plt.plot(train.area, train.yhat)\n",
    "plt.xlabel('x = Square Feet')\n",
    "plt.ylabel('y = Tax Assessed Value')\n",
    "plt.title('OLS linear model');"
   ]
  },
  {
   "cell_type": "code",
   "execution_count": 15,
   "id": "a8a53937",
   "metadata": {},
   "outputs": [
    {
     "data": {
      "text/html": [
       "<div>\n",
       "<style scoped>\n",
       "    .dataframe tbody tr th:only-of-type {\n",
       "        vertical-align: middle;\n",
       "    }\n",
       "\n",
       "    .dataframe tbody tr th {\n",
       "        vertical-align: top;\n",
       "    }\n",
       "\n",
       "    .dataframe thead th {\n",
       "        text-align: right;\n",
       "    }\n",
       "</style>\n",
       "<table border=\"1\" class=\"dataframe\">\n",
       "  <thead>\n",
       "    <tr style=\"text-align: right;\">\n",
       "      <th></th>\n",
       "      <th>area</th>\n",
       "      <th>tax_value</th>\n",
       "      <th>baseline</th>\n",
       "      <th>yhat</th>\n",
       "    </tr>\n",
       "  </thead>\n",
       "  <tbody>\n",
       "    <tr>\n",
       "      <th>1054933</th>\n",
       "      <td>1451</td>\n",
       "      <td>560000</td>\n",
       "      <td>398646.008504</td>\n",
       "      <td>363055.327137</td>\n",
       "    </tr>\n",
       "    <tr>\n",
       "      <th>584421</th>\n",
       "      <td>2604</td>\n",
       "      <td>878869</td>\n",
       "      <td>398646.008504</td>\n",
       "      <td>481454.397515</td>\n",
       "    </tr>\n",
       "    <tr>\n",
       "      <th>1242400</th>\n",
       "      <td>1412</td>\n",
       "      <td>232923</td>\n",
       "      <td>398646.008504</td>\n",
       "      <td>359050.501687</td>\n",
       "    </tr>\n",
       "    <tr>\n",
       "      <th>1557109</th>\n",
       "      <td>1520</td>\n",
       "      <td>201628</td>\n",
       "      <td>398646.008504</td>\n",
       "      <td>370140.787550</td>\n",
       "    </tr>\n",
       "    <tr>\n",
       "      <th>857417</th>\n",
       "      <td>1252</td>\n",
       "      <td>613000</td>\n",
       "      <td>398646.008504</td>\n",
       "      <td>342620.448555</td>\n",
       "    </tr>\n",
       "  </tbody>\n",
       "</table>\n",
       "</div>"
      ],
      "text/plain": [
       "         area  tax_value       baseline           yhat\n",
       "1054933  1451     560000  398646.008504  363055.327137\n",
       "584421   2604     878869  398646.008504  481454.397515\n",
       "1242400  1412     232923  398646.008504  359050.501687\n",
       "1557109  1520     201628  398646.008504  370140.787550\n",
       "857417   1252     613000  398646.008504  342620.448555"
      ]
     },
     "execution_count": 15,
     "metadata": {},
     "output_type": "execute_result"
    }
   ],
   "source": [
    "train.head()"
   ]
  },
  {
   "cell_type": "code",
   "execution_count": 16,
   "id": "27df9a21",
   "metadata": {},
   "outputs": [],
   "source": [
    "# residual = actual - predicted\n",
    "train['residual'] = train.tax_value - train.yhat\n",
    "train['baseline_residual'] = train.tax_value - train.baseline"
   ]
  },
  {
   "cell_type": "code",
   "execution_count": 17,
   "id": "a6806d31",
   "metadata": {},
   "outputs": [
    {
     "data": {
      "text/html": [
       "<div>\n",
       "<style scoped>\n",
       "    .dataframe tbody tr th:only-of-type {\n",
       "        vertical-align: middle;\n",
       "    }\n",
       "\n",
       "    .dataframe tbody tr th {\n",
       "        vertical-align: top;\n",
       "    }\n",
       "\n",
       "    .dataframe thead th {\n",
       "        text-align: right;\n",
       "    }\n",
       "</style>\n",
       "<table border=\"1\" class=\"dataframe\">\n",
       "  <thead>\n",
       "    <tr style=\"text-align: right;\">\n",
       "      <th></th>\n",
       "      <th>area</th>\n",
       "      <th>tax_value</th>\n",
       "      <th>baseline</th>\n",
       "      <th>yhat</th>\n",
       "      <th>residual</th>\n",
       "      <th>baseline_residual</th>\n",
       "    </tr>\n",
       "  </thead>\n",
       "  <tbody>\n",
       "    <tr>\n",
       "      <th>1054933</th>\n",
       "      <td>1451</td>\n",
       "      <td>560000</td>\n",
       "      <td>398646.008504</td>\n",
       "      <td>363055.327137</td>\n",
       "      <td>196944.672863</td>\n",
       "      <td>161353.991496</td>\n",
       "    </tr>\n",
       "    <tr>\n",
       "      <th>584421</th>\n",
       "      <td>2604</td>\n",
       "      <td>878869</td>\n",
       "      <td>398646.008504</td>\n",
       "      <td>481454.397515</td>\n",
       "      <td>397414.602485</td>\n",
       "      <td>480222.991496</td>\n",
       "    </tr>\n",
       "    <tr>\n",
       "      <th>1242400</th>\n",
       "      <td>1412</td>\n",
       "      <td>232923</td>\n",
       "      <td>398646.008504</td>\n",
       "      <td>359050.501687</td>\n",
       "      <td>-126127.501687</td>\n",
       "      <td>-165723.008504</td>\n",
       "    </tr>\n",
       "    <tr>\n",
       "      <th>1557109</th>\n",
       "      <td>1520</td>\n",
       "      <td>201628</td>\n",
       "      <td>398646.008504</td>\n",
       "      <td>370140.787550</td>\n",
       "      <td>-168512.787550</td>\n",
       "      <td>-197018.008504</td>\n",
       "    </tr>\n",
       "    <tr>\n",
       "      <th>857417</th>\n",
       "      <td>1252</td>\n",
       "      <td>613000</td>\n",
       "      <td>398646.008504</td>\n",
       "      <td>342620.448555</td>\n",
       "      <td>270379.551445</td>\n",
       "      <td>214353.991496</td>\n",
       "    </tr>\n",
       "  </tbody>\n",
       "</table>\n",
       "</div>"
      ],
      "text/plain": [
       "         area  tax_value       baseline           yhat       residual  \\\n",
       "1054933  1451     560000  398646.008504  363055.327137  196944.672863   \n",
       "584421   2604     878869  398646.008504  481454.397515  397414.602485   \n",
       "1242400  1412     232923  398646.008504  359050.501687 -126127.501687   \n",
       "1557109  1520     201628  398646.008504  370140.787550 -168512.787550   \n",
       "857417   1252     613000  398646.008504  342620.448555  270379.551445   \n",
       "\n",
       "         baseline_residual  \n",
       "1054933      161353.991496  \n",
       "584421       480222.991496  \n",
       "1242400     -165723.008504  \n",
       "1557109     -197018.008504  \n",
       "857417       214353.991496  "
      ]
     },
     "execution_count": 17,
     "metadata": {},
     "output_type": "execute_result"
    }
   ],
   "source": [
    "train.head()"
   ]
  },
  {
   "cell_type": "markdown",
   "id": "9666fcad",
   "metadata": {},
   "source": [
    "#### Negative Residual = Prediction too high\n",
    "\n",
    "#### Positive Residual = Prediction too low"
   ]
  },
  {
   "cell_type": "code",
   "execution_count": 18,
   "id": "b0900ca1",
   "metadata": {},
   "outputs": [
    {
     "data": {
      "image/png": "[encoded data removed]",
      "text/plain": [
       "<Figure size 792x360 with 2 Axes>"
      ]
     },
     "metadata": {
      "needs_background": "light"
     },
     "output_type": "display_data"
    }
   ],
   "source": [
    "# residual plots (x vs residual)\n",
    "\n",
    "plt.figure(figsize = (11,5))\n",
    "\n",
    "plt.subplot(121)\n",
    "plt.scatter(train.area, train.baseline_residual)\n",
    "plt.axhline(y = 0, ls = ':', color='red')\n",
    "plt.xlabel('Square Feet')\n",
    "plt.ylabel('Residual')\n",
    "plt.title('Baseline Residuals')\n",
    "\n",
    "plt.subplot(122)\n",
    "plt.scatter(train.area, train.residual)\n",
    "plt.axhline(y = 0, ls = ':', color ='red')\n",
    "plt.xlabel('Square Feet')\n",
    "plt.ylabel('Residual')\n",
    "plt.title('OLS model residuals');"
   ]
  },
  {
   "cell_type": "code",
   "execution_count": 19,
   "id": "26f9f0e0",
   "metadata": {},
   "outputs": [],
   "source": [
    "baseline_residual_min = train.baseline_residual.min()\n",
    "baseline_residual_max = train.baseline_residual.max()\n",
    "residual_min = train.residual.min()\n",
    "residual_max = train.residual.max()"
   ]
  },
  {
   "cell_type": "code",
   "execution_count": 20,
   "id": "03486b4d",
   "metadata": {},
   "outputs": [
    {
     "data": {
      "text/plain": [
       "(-97289292.60561499, 1719522.716674683)"
      ]
     },
     "execution_count": 20,
     "metadata": {},
     "output_type": "execute_result"
    }
   ],
   "source": [
    "residual_min, residual_max"
   ]
  },
  {
   "cell_type": "code",
   "execution_count": 21,
   "id": "12a3a621",
   "metadata": {},
   "outputs": [
    {
     "name": "stdout",
     "output_type": "stream",
     "text": [
      "Negative Residual = Prediction too high\n",
      "Positive Residual = Prediction too low\n"
     ]
    },
    {
     "data": {
      "image/png": "[encoded data removed]",
      "text/plain": [
       "<Figure size 792x360 with 2 Axes>"
      ]
     },
     "metadata": {
      "needs_background": "light"
     },
     "output_type": "display_data"
    }
   ],
   "source": [
    "# residual plots (x vs residual)\n",
    "\n",
    "plt.figure(figsize = (11,5))\n",
    "\n",
    "plt.subplot(121)\n",
    "plt.scatter(train.area, train.baseline_residual, alpha=.05)\n",
    "plt.axhline(y = 0, ls = ':', color = 'red')\n",
    "plt.xlim(0,5000)\n",
    "plt.ylim(baseline_residual_min, baseline_residual_max)\n",
    "plt.xlabel('Square Feet')\n",
    "plt.ylabel('Residual')\n",
    "plt.title('Baseline Residuals')\n",
    "\n",
    "plt.subplot(122)\n",
    "plt.scatter(train.area, train.residual, alpha=0.05)\n",
    "plt.axhline(y = 0, ls = ':', color ='red')\n",
    "plt.xlim(0,5000)\n",
    "plt.ylim(-1_000_000, residual_max)\n",
    "plt.xlabel('Square Feet')\n",
    "plt.ylabel('Residual')\n",
    "plt.title('OLS model residuals')\n",
    "print(\"Negative Residual = Prediction too high\")\n",
    "print(\"Positive Residual = Prediction too low\")"
   ]
  },
  {
   "cell_type": "markdown",
   "id": "7be09ded",
   "metadata": {},
   "source": [
    "#### Takeaway: Presence of a slope in the residual plot suggests the need for additional predictors"
   ]
  },
  {
   "cell_type": "code",
   "execution_count": 22,
   "id": "3f585f48",
   "metadata": {},
   "outputs": [
    {
     "data": {
      "image/png": "[encoded data removed]",
      "text/plain": [
       "<Figure size 432x288 with 1 Axes>"
      ]
     },
     "metadata": {
      "needs_background": "light"
     },
     "output_type": "display_data"
    }
   ],
   "source": [
    "# Residual plot (y vs residual)\n",
    "actual = train.tax_value\n",
    "predicted = train.yhat\n",
    "residuals = actual - predicted\n",
    "plt.hlines(0, actual.min(), actual.max(), ls=':')\n",
    "plt.scatter(actual, residuals)\n",
    "plt.ylabel('residual ($y - \\hat{y}$)')\n",
    "plt.xlabel('actual value ($y$)')\n",
    "plt.title('Actual vs Residual')\n",
    "plt.show()"
   ]
  },
  {
   "cell_type": "code",
   "execution_count": 23,
   "id": "85587af3",
   "metadata": {},
   "outputs": [
    {
     "data": {
      "text/html": [
       "<div>\n",
       "<style scoped>\n",
       "    .dataframe tbody tr th:only-of-type {\n",
       "        vertical-align: middle;\n",
       "    }\n",
       "\n",
       "    .dataframe tbody tr th {\n",
       "        vertical-align: top;\n",
       "    }\n",
       "\n",
       "    .dataframe thead th {\n",
       "        text-align: right;\n",
       "    }\n",
       "</style>\n",
       "<table border=\"1\" class=\"dataframe\">\n",
       "  <thead>\n",
       "    <tr style=\"text-align: right;\">\n",
       "      <th></th>\n",
       "      <th>area</th>\n",
       "      <th>tax_value</th>\n",
       "      <th>baseline</th>\n",
       "      <th>yhat</th>\n",
       "      <th>residual</th>\n",
       "      <th>baseline_residual</th>\n",
       "      <th>residual^2</th>\n",
       "      <th>baseline_residual^2</th>\n",
       "    </tr>\n",
       "  </thead>\n",
       "  <tbody>\n",
       "    <tr>\n",
       "      <th>1054933</th>\n",
       "      <td>1451</td>\n",
       "      <td>560000</td>\n",
       "      <td>398646.008504</td>\n",
       "      <td>363055.327137</td>\n",
       "      <td>196944.672863</td>\n",
       "      <td>161353.991496</td>\n",
       "      <td>3.878720e+10</td>\n",
       "      <td>2.603511e+10</td>\n",
       "    </tr>\n",
       "    <tr>\n",
       "      <th>584421</th>\n",
       "      <td>2604</td>\n",
       "      <td>878869</td>\n",
       "      <td>398646.008504</td>\n",
       "      <td>481454.397515</td>\n",
       "      <td>397414.602485</td>\n",
       "      <td>480222.991496</td>\n",
       "      <td>1.579384e+11</td>\n",
       "      <td>2.306141e+11</td>\n",
       "    </tr>\n",
       "    <tr>\n",
       "      <th>1242400</th>\n",
       "      <td>1412</td>\n",
       "      <td>232923</td>\n",
       "      <td>398646.008504</td>\n",
       "      <td>359050.501687</td>\n",
       "      <td>-126127.501687</td>\n",
       "      <td>-165723.008504</td>\n",
       "      <td>1.590815e+10</td>\n",
       "      <td>2.746412e+10</td>\n",
       "    </tr>\n",
       "    <tr>\n",
       "      <th>1557109</th>\n",
       "      <td>1520</td>\n",
       "      <td>201628</td>\n",
       "      <td>398646.008504</td>\n",
       "      <td>370140.787550</td>\n",
       "      <td>-168512.787550</td>\n",
       "      <td>-197018.008504</td>\n",
       "      <td>2.839656e+10</td>\n",
       "      <td>3.881610e+10</td>\n",
       "    </tr>\n",
       "    <tr>\n",
       "      <th>857417</th>\n",
       "      <td>1252</td>\n",
       "      <td>613000</td>\n",
       "      <td>398646.008504</td>\n",
       "      <td>342620.448555</td>\n",
       "      <td>270379.551445</td>\n",
       "      <td>214353.991496</td>\n",
       "      <td>7.310510e+10</td>\n",
       "      <td>4.594763e+10</td>\n",
       "    </tr>\n",
       "  </tbody>\n",
       "</table>\n",
       "</div>"
      ],
      "text/plain": [
       "         area  tax_value       baseline           yhat       residual  \\\n",
       "1054933  1451     560000  398646.008504  363055.327137  196944.672863   \n",
       "584421   2604     878869  398646.008504  481454.397515  397414.602485   \n",
       "1242400  1412     232923  398646.008504  359050.501687 -126127.501687   \n",
       "1557109  1520     201628  398646.008504  370140.787550 -168512.787550   \n",
       "857417   1252     613000  398646.008504  342620.448555  270379.551445   \n",
       "\n",
       "         baseline_residual    residual^2  baseline_residual^2  \n",
       "1054933      161353.991496  3.878720e+10         2.603511e+10  \n",
       "584421       480222.991496  1.579384e+11         2.306141e+11  \n",
       "1242400     -165723.008504  1.590815e+10         2.746412e+10  \n",
       "1557109     -197018.008504  2.839656e+10         3.881610e+10  \n",
       "857417       214353.991496  7.310510e+10         4.594763e+10  "
      ]
     },
     "execution_count": 23,
     "metadata": {},
     "output_type": "execute_result"
    }
   ],
   "source": [
    "train['residual^2'] = train.residual**2\n",
    "train['baseline_residual^2'] = train.baseline_residual**2\n",
    "\n",
    "train.head()"
   ]
  },
  {
   "cell_type": "code",
   "execution_count": 24,
   "id": "e2b02855",
   "metadata": {},
   "outputs": [
    {
     "name": "stdout",
     "output_type": "stream",
     "text": [
      "SSE = 125852925480249344.0\n",
      "SSE Baseline = 148292250643972256.0\n"
     ]
    }
   ],
   "source": [
    "SSE = train['residual^2'].sum()\n",
    "SSE_baseline = train['baseline_residual^2'].sum()\n",
    "\n",
    "print('SSE =', \"{:.1f}\".format(SSE))\n",
    "print(\"SSE Baseline =\", \"{:.1f}\".format(SSE_baseline))"
   ]
  },
  {
   "cell_type": "code",
   "execution_count": 25,
   "id": "763cd8f5",
   "metadata": {},
   "outputs": [
    {
     "data": {
      "text/plain": [
       "True"
      ]
     },
     "execution_count": 25,
     "metadata": {},
     "output_type": "execute_result"
    }
   ],
   "source": [
    "SSE < SSE_baseline"
   ]
  },
  {
   "cell_type": "code",
   "execution_count": 26,
   "id": "e87c4224",
   "metadata": {},
   "outputs": [
    {
     "data": {
      "text/plain": [
       "1508099"
      ]
     },
     "execution_count": 26,
     "metadata": {},
     "output_type": "execute_result"
    }
   ],
   "source": [
    "len(train)\n",
    "train.shape[0]"
   ]
  },
  {
   "cell_type": "code",
   "execution_count": 27,
   "id": "efad7db2",
   "metadata": {},
   "outputs": [
    {
     "name": "stdout",
     "output_type": "stream",
     "text": [
      "MSE =  83451368564.2\n",
      "MSE baseline =  98330580846.5\n"
     ]
    }
   ],
   "source": [
    "MSE = SSE/len(train)\n",
    "MSE_baseline = SSE_baseline/len(train)\n",
    "\n",
    "print(\"MSE = \", \"{:.1f}\".format(MSE))\n",
    "print(\"MSE baseline = \", \"{:.1f}\".format(MSE_baseline))"
   ]
  },
  {
   "cell_type": "code",
   "execution_count": 28,
   "id": "88c1129b",
   "metadata": {},
   "outputs": [
    {
     "name": "stdout",
     "output_type": "stream",
     "text": [
      "RMSE =  288879.5\n",
      "RMSE baseline =  313577.1\n"
     ]
    }
   ],
   "source": [
    "from math import sqrt\n",
    "RMSE = sqrt(MSE)\n",
    "RMSE_baseline =  sqrt(MSE_baseline)\n",
    "\n",
    "\n",
    "print(\"RMSE = \", \"{:.1f}\".format(RMSE))\n",
    "print(\"RMSE baseline = \", \"{:.1f}\".format(RMSE_baseline))"
   ]
  },
  {
   "cell_type": "code",
   "execution_count": 29,
   "id": "beae902d",
   "metadata": {},
   "outputs": [
    {
     "name": "stdout",
     "output_type": "stream",
     "text": [
      "OLS Regression Model Performs Better than Baseline\n"
     ]
    }
   ],
   "source": [
    "if SSE < SSE_baseline:\n",
    "    print('OLS Regression Model Performs Better than Baseline')\n",
    "else:\n",
    "    print('OLS Regression Model Performs Worse than Baseline')"
   ]
  },
  {
   "cell_type": "code",
   "execution_count": 30,
   "id": "23c979d7",
   "metadata": {},
   "outputs": [
    {
     "data": {
      "text/plain": [
       "0.151318258818503"
      ]
     },
     "execution_count": 30,
     "metadata": {},
     "output_type": "execute_result"
    }
   ],
   "source": [
    "\n",
    "# calculate R2 manually:\n",
    "\n",
    "# Total Sum of Squares = SSE for baseline\n",
    "TSS = SSE_baseline = train['baseline_residual^2'].sum()\n",
    "\n",
    "# Sum of squared error for the regression line (Unexplained error)\n",
    "SSE = train['residual^2'].sum()\n",
    "\n",
    "# ESS - Explained sum of squares ('Explained Error')\n",
    "ESS = TSS - SSE\n",
    "\n",
    "# Calculate R2\n",
    "R2 = ESS/TSS\n",
    "R2"
   ]
  },
  {
   "cell_type": "code",
   "execution_count": 31,
   "id": "0da8f975",
   "metadata": {},
   "outputs": [
    {
     "data": {
      "text/plain": [
       "0.15131825881850303"
      ]
     },
     "execution_count": 31,
     "metadata": {},
     "output_type": "execute_result"
    }
   ],
   "source": [
    "\n",
    "# calculate R2 the easy way:\n",
    "\n",
    "from sklearn.metrics import r2_score\n",
    "r2_score(train.tax_value, train.yhat)"
   ]
  },
  {
   "cell_type": "code",
   "execution_count": 33,
   "id": "621a6986",
   "metadata": {},
   "outputs": [
    {
     "name": "stdout",
     "output_type": "stream",
     "text": [
      "                            OLS Regression Results                            \n",
      "==============================================================================\n",
      "Dep. Variable:              tax_value   R-squared:                       0.151\n",
      "Model:                            OLS   Adj. R-squared:                  0.151\n",
      "Method:                 Least Squares   F-statistic:                 2.689e+05\n",
      "Date:                Fri, 10 Jun 2022   Prob (F-statistic):               0.00\n",
      "Time:                        13:51:33   Log-Likelihood:            -2.1102e+07\n",
      "No. Observations:             1508099   AIC:                         4.220e+07\n",
      "Df Residuals:                 1508097   BIC:                         4.220e+07\n",
      "Df Model:                           1                                         \n",
      "Covariance Type:            nonrobust                                         \n",
      "==============================================================================\n",
      "                 coef    std err          t      P>|t|      [0.025      0.975]\n",
      "------------------------------------------------------------------------------\n",
      "const       2.141e+05    426.679    501.677      0.000    2.13e+05    2.15e+05\n",
      "area         102.6878      0.198    518.547      0.000     102.300     103.076\n",
      "==============================================================================\n",
      "Omnibus:                  3912554.379   Durbin-Watson:                   1.997\n",
      "Prob(Omnibus):                  0.000   Jarque-Bera (JB):    5512499062305.771\n",
      "Skew:                         -28.267   Prob(JB):                         0.00\n",
      "Kurtosis:                    9369.062   Cond. No.                     3.91e+03\n",
      "==============================================================================\n",
      "\n",
      "Notes:\n",
      "[1] Standard Errors assume that the covariance matrix of the errors is correctly specified.\n",
      "[2] The condition number is large, 3.91e+03. This might indicate that there are\n",
      "strong multicollinearity or other numerical problems.\n"
     ]
    }
   ],
   "source": [
    "X2 = sm.add_constant(train.area)\n",
    "est = sm.OLS(train.tax_value, X2)\n",
    "est2 = est.fit()\n",
    "print(est2.summary())"
   ]
  },
  {
   "cell_type": "code",
   "execution_count": null,
   "id": "a6a77a34",
   "metadata": {},
   "outputs": [],
   "source": []
  }
 ],
 "metadata": {
  "kernelspec": {
   "display_name": "Python 3 (ipykernel)",
   "language": "python",
   "name": "python3"
  },
  "language_info": {
   "codemirror_mode": {
    "name": "ipython",
    "version": 3
   },
   "file_extension": ".py",
   "mimetype": "text/x-python",
   "name": "python",
   "nbconvert_exporter": "python",
   "pygments_lexer": "ipython3",
   "version": "3.9.7"
  }
 },
 "nbformat": 4,
 "nbformat_minor": 5
}
