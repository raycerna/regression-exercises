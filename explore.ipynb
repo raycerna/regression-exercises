{
 "cells": [
  {
   "cell_type": "code",
   "execution_count": 4,
   "id": "7def0f72",
   "metadata": {},
   "outputs": [],
   "source": [
    "import warnings\n",
    "warnings.filterwarnings(\"ignore\")\n",
    "\n",
    "import pandas as pd\n",
    "import numpy as np\n",
    "\n",
    "import matplotlib.pyplot as plt\n",
    "import seaborn as sns\n",
    "\n",
    "from sklearn.model_selection import train_test_split\n",
    "from scipy.stats import pearsonr, spearmanr\n",
    "\n",
    "import env\n",
    "import wrangle"
   ]
  },
  {
   "cell_type": "code",
   "execution_count": 10,
   "id": "d7e444f7",
   "metadata": {},
   "outputs": [],
   "source": [
    "\n",
    "#use wrangle.py to import data from mySQL\n",
    "df =wrangle.get_zillow_data()\n"
   ]
  },
  {
   "cell_type": "code",
   "execution_count": 11,
   "id": "e3dfd900",
   "metadata": {},
   "outputs": [
    {
     "name": "stdout",
     "output_type": "stream",
     "text": [
      "<class 'pandas.core.frame.DataFrame'>\n",
      "RangeIndex: 2094583 entries, 0 to 2094582\n",
      "Data columns (total 7 columns):\n",
      " #   Column      Dtype  \n",
      "---  ------      -----  \n",
      " 0   bedrooms    int64  \n",
      " 1   bathrooms   float64\n",
      " 2   area        int64  \n",
      " 3   tax_value   int64  \n",
      " 4   year_built  int64  \n",
      " 5   taxamount   float64\n",
      " 6   fips        int64  \n",
      "dtypes: float64(2), int64(5)\n",
      "memory usage: 111.9 MB\n"
     ]
    }
   ],
   "source": [
    "df.info()"
   ]
  },
  {
   "cell_type": "code",
   "execution_count": null,
   "id": "48227c09",
   "metadata": {},
   "outputs": [],
   "source": []
  }
 ],
 "metadata": {
  "kernelspec": {
   "display_name": "Python 3 (ipykernel)",
   "language": "python",
   "name": "python3"
  },
  "language_info": {
   "codemirror_mode": {
    "name": "ipython",
    "version": 3
   },
   "file_extension": ".py",
   "mimetype": "text/x-python",
   "name": "python",
   "nbconvert_exporter": "python",
   "pygments_lexer": "ipython3",
   "version": "3.9.7"
  }
 },
 "nbformat": 4,
 "nbformat_minor": 5
}
