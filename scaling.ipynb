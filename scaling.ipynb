{
 "cells": [
  {
   "cell_type": "code",
   "execution_count": 1,
   "id": "33e71a55",
   "metadata": {},
   "outputs": [],
   "source": [
    "%matplotlib inline\n",
    "import matplotlib.pyplot as plt\n",
    "import numpy as np\n",
    "import pandas as pd\n",
    "import pydataset\n",
    "import seaborn as sns\n",
    "import sklearn\n",
    "from sklearn.neighbors import KNeighborsClassifier\n",
    "from sklearn.preprocessing import MinMaxScaler, StandardScaler, RobustScaler\n",
    "from wrangle import wrangle_zillow\n",
    "from sklearn.model_selection import train_test_split\n",
    "from env import get_db_url\n",
    "import warnings\n",
    "warnings.filterwarnings(\"ignore\")"
   ]
  },
  {
   "cell_type": "markdown",
   "id": "5d96ddfe",
   "metadata": {},
   "source": [
    "## Exercises\n",
    "### Do your work for these exercises in a jupyter notebook named scaling. Use the zillow dataset you acquired and prepped in previous lesson. Once you are finished, you may wish to repeat the exercises on another dataset for additional practice.\n",
    "\n",
    "- 1. Apply the scalers we talked about in this lesson to your data and visualize the results for the unscaled and scaled distribution .\n",
    "\n",
    "- 2. Apply the .inverse_transform method to your scaled data. Is the resulting dataset the exact same as the original data?\n",
    "\n",
    "- 3. Read the documentation for sklearn's QuantileTransformer. Use normal for the output_distribution and apply this scaler to your data. Visualize the result of your data scaling.\n",
    "\n",
    "- 4. Use the QuantileTransformer, but omit the output_distribution argument. Visualize your results. What do you notice?\n",
    "\n",
    "- 5. Based on the work you've done, choose a scaling method for your dataset. Write a function within your prepare.py that accepts as input the train, validate, and test data splits, and returns the scaled versions of each. Be sure to only learn the parameters for scaling from your training data!"
   ]
  },
  {
   "cell_type": "code",
   "execution_count": 2,
   "id": "e6469ea6",
   "metadata": {},
   "outputs": [],
   "source": [
    "df = wrangle_zillow()"
   ]
  },
  {
   "cell_type": "code",
   "execution_count": 3,
   "id": "dce7998c",
   "metadata": {},
   "outputs": [
    {
     "data": {
      "text/html": [
       "<div>\n",
       "<style scoped>\n",
       "    .dataframe tbody tr th:only-of-type {\n",
       "        vertical-align: middle;\n",
       "    }\n",
       "\n",
       "    .dataframe tbody tr th {\n",
       "        vertical-align: top;\n",
       "    }\n",
       "\n",
       "    .dataframe thead th {\n",
       "        text-align: right;\n",
       "    }\n",
       "</style>\n",
       "<table border=\"1\" class=\"dataframe\">\n",
       "  <thead>\n",
       "    <tr style=\"text-align: right;\">\n",
       "      <th></th>\n",
       "      <th>bedrooms</th>\n",
       "      <th>bathrooms</th>\n",
       "      <th>area</th>\n",
       "      <th>tax_value</th>\n",
       "      <th>year_built</th>\n",
       "      <th>taxamount</th>\n",
       "      <th>fips</th>\n",
       "    </tr>\n",
       "  </thead>\n",
       "  <tbody>\n",
       "    <tr>\n",
       "      <th>0</th>\n",
       "      <td>4</td>\n",
       "      <td>2.0</td>\n",
       "      <td>3633</td>\n",
       "      <td>296425</td>\n",
       "      <td>2005</td>\n",
       "      <td>6941.39</td>\n",
       "      <td>6037</td>\n",
       "    </tr>\n",
       "    <tr>\n",
       "      <th>1</th>\n",
       "      <td>3</td>\n",
       "      <td>4.0</td>\n",
       "      <td>1620</td>\n",
       "      <td>847770</td>\n",
       "      <td>2011</td>\n",
       "      <td>10244.94</td>\n",
       "      <td>6037</td>\n",
       "    </tr>\n",
       "    <tr>\n",
       "      <th>2</th>\n",
       "      <td>3</td>\n",
       "      <td>2.0</td>\n",
       "      <td>2077</td>\n",
       "      <td>646760</td>\n",
       "      <td>1926</td>\n",
       "      <td>7924.68</td>\n",
       "      <td>6037</td>\n",
       "    </tr>\n",
       "    <tr>\n",
       "      <th>3</th>\n",
       "      <td>0</td>\n",
       "      <td>0.0</td>\n",
       "      <td>1200</td>\n",
       "      <td>5328</td>\n",
       "      <td>1972</td>\n",
       "      <td>91.60</td>\n",
       "      <td>6037</td>\n",
       "    </tr>\n",
       "    <tr>\n",
       "      <th>4</th>\n",
       "      <td>0</td>\n",
       "      <td>0.0</td>\n",
       "      <td>171</td>\n",
       "      <td>6920</td>\n",
       "      <td>1973</td>\n",
       "      <td>255.17</td>\n",
       "      <td>6037</td>\n",
       "    </tr>\n",
       "  </tbody>\n",
       "</table>\n",
       "</div>"
      ],
      "text/plain": [
       "   bedrooms  bathrooms  area  tax_value  year_built  taxamount  fips\n",
       "0         4        2.0  3633     296425        2005    6941.39  6037\n",
       "1         3        4.0  1620     847770        2011   10244.94  6037\n",
       "2         3        2.0  2077     646760        1926    7924.68  6037\n",
       "3         0        0.0  1200       5328        1972      91.60  6037\n",
       "4         0        0.0   171       6920        1973     255.17  6037"
      ]
     },
     "execution_count": 3,
     "metadata": {},
     "output_type": "execute_result"
    }
   ],
   "source": [
    "df.head()"
   ]
  },
  {
   "cell_type": "code",
   "execution_count": 4,
   "id": "eea0c223",
   "metadata": {},
   "outputs": [],
   "source": [
    "# split the data in train, validate and test\n",
    "train, test = train_test_split(df, test_size = 0.2, random_state = 123)\n",
    "train, validate = train_test_split(train, test_size = 0.25, random_state = 123)"
   ]
  },
  {
   "cell_type": "code",
   "execution_count": 5,
   "id": "c065cc5c",
   "metadata": {},
   "outputs": [
    {
     "data": {
      "text/plain": [
       "((1256749, 7), (418917, 7), (418917, 7))"
      ]
     },
     "execution_count": 5,
     "metadata": {},
     "output_type": "execute_result"
    }
   ],
   "source": [
    "#check the shape\n",
    "train.shape, validate.shape, test.shape"
   ]
  },
  {
   "cell_type": "code",
   "execution_count": 6,
   "id": "ad3cf845",
   "metadata": {},
   "outputs": [
    {
     "data": {
      "text/html": [
       "<div>\n",
       "<style scoped>\n",
       "    .dataframe tbody tr th:only-of-type {\n",
       "        vertical-align: middle;\n",
       "    }\n",
       "\n",
       "    .dataframe tbody tr th {\n",
       "        vertical-align: top;\n",
       "    }\n",
       "\n",
       "    .dataframe thead th {\n",
       "        text-align: right;\n",
       "    }\n",
       "</style>\n",
       "<table border=\"1\" class=\"dataframe\">\n",
       "  <thead>\n",
       "    <tr style=\"text-align: right;\">\n",
       "      <th></th>\n",
       "      <th>bedrooms</th>\n",
       "      <th>bathrooms</th>\n",
       "      <th>area</th>\n",
       "      <th>tax_value</th>\n",
       "      <th>year_built</th>\n",
       "      <th>taxamount</th>\n",
       "      <th>fips</th>\n",
       "    </tr>\n",
       "  </thead>\n",
       "  <tbody>\n",
       "    <tr>\n",
       "      <th>1397104</th>\n",
       "      <td>4</td>\n",
       "      <td>3.0</td>\n",
       "      <td>1554</td>\n",
       "      <td>446970</td>\n",
       "      <td>1948</td>\n",
       "      <td>5363.83</td>\n",
       "      <td>6037</td>\n",
       "    </tr>\n",
       "    <tr>\n",
       "      <th>1541311</th>\n",
       "      <td>2</td>\n",
       "      <td>2.0</td>\n",
       "      <td>1508</td>\n",
       "      <td>322750</td>\n",
       "      <td>1939</td>\n",
       "      <td>4087.51</td>\n",
       "      <td>6037</td>\n",
       "    </tr>\n",
       "    <tr>\n",
       "      <th>349572</th>\n",
       "      <td>3</td>\n",
       "      <td>3.0</td>\n",
       "      <td>2775</td>\n",
       "      <td>754493</td>\n",
       "      <td>1962</td>\n",
       "      <td>8281.34</td>\n",
       "      <td>6037</td>\n",
       "    </tr>\n",
       "    <tr>\n",
       "      <th>1956887</th>\n",
       "      <td>4</td>\n",
       "      <td>4.0</td>\n",
       "      <td>4361</td>\n",
       "      <td>1407000</td>\n",
       "      <td>1972</td>\n",
       "      <td>15008.38</td>\n",
       "      <td>6059</td>\n",
       "    </tr>\n",
       "    <tr>\n",
       "      <th>1769654</th>\n",
       "      <td>4</td>\n",
       "      <td>2.0</td>\n",
       "      <td>2465</td>\n",
       "      <td>132915</td>\n",
       "      <td>1974</td>\n",
       "      <td>1840.82</td>\n",
       "      <td>6059</td>\n",
       "    </tr>\n",
       "  </tbody>\n",
       "</table>\n",
       "</div>"
      ],
      "text/plain": [
       "         bedrooms  bathrooms  area  tax_value  year_built  taxamount  fips\n",
       "1397104         4        3.0  1554     446970        1948    5363.83  6037\n",
       "1541311         2        2.0  1508     322750        1939    4087.51  6037\n",
       "349572          3        3.0  2775     754493        1962    8281.34  6037\n",
       "1956887         4        4.0  4361    1407000        1972   15008.38  6059\n",
       "1769654         4        2.0  2465     132915        1974    1840.82  6059"
      ]
     },
     "execution_count": 6,
     "metadata": {},
     "output_type": "execute_result"
    }
   ],
   "source": [
    "train.head()"
   ]
  },
  {
   "cell_type": "code",
   "execution_count": 7,
   "id": "dd8dcc10",
   "metadata": {},
   "outputs": [],
   "source": [
    "columns_to_scale = ['bedrooms','bathrooms','year_built','area','tax_value','taxamount']"
   ]
  },
  {
   "cell_type": "code",
   "execution_count": 8,
   "id": "3c5af5f9",
   "metadata": {},
   "outputs": [],
   "source": [
    "train_scaled = train.copy() \n",
    "scaler = MinMaxScaler()\n",
    "train_scaled[columns_to_scale] = scaler.fit_transform(train[columns_to_scale])"
   ]
  },
  {
   "cell_type": "code",
   "execution_count": 9,
   "id": "9f2af642",
   "metadata": {},
   "outputs": [],
   "source": [
    "#you do not need to scale the target - tax_value\n",
    "\n"
   ]
  },
  {
   "cell_type": "code",
   "execution_count": 10,
   "id": "597ab3ff",
   "metadata": {},
   "outputs": [
    {
     "data": {
      "text/plain": [
       "array([[0.22348674],\n",
       "       [0.1613732 ],\n",
       "       [0.377257  ],\n",
       "       ...,\n",
       "       [0.23902962],\n",
       "       [0.03647858],\n",
       "       [0.11212689]])"
      ]
     },
     "execution_count": 10,
     "metadata": {},
     "output_type": "execute_result"
    }
   ],
   "source": [
    "# Define the thing\n",
    "scaler = sklearn.preprocessing.MinMaxScaler()\n",
    "\n",
    "# Fit the thing\n",
    "scaler.fit(train[['tax_value']])\n",
    "\n",
    "#transform\n",
    "scaled = scaler.transform(train[['tax_value']])\n",
    "\n",
    "\n",
    "# single step to fit and transform\n",
    "scaled = scaler.fit_transform(train[['tax_value']])\n",
    "scaled"
   ]
  },
  {
   "cell_type": "code",
   "execution_count": 11,
   "id": "d3a36a34",
   "metadata": {},
   "outputs": [],
   "source": [
    "#you can make a new 'scaled' column in original dataframe if you wish\n",
    "train['tax_value_scaled']  = scaled  "
   ]
  },
  {
   "cell_type": "code",
   "execution_count": 12,
   "id": "b62c7f96",
   "metadata": {},
   "outputs": [
    {
     "data": {
      "text/html": [
       "<div>\n",
       "<style scoped>\n",
       "    .dataframe tbody tr th:only-of-type {\n",
       "        vertical-align: middle;\n",
       "    }\n",
       "\n",
       "    .dataframe tbody tr th {\n",
       "        vertical-align: top;\n",
       "    }\n",
       "\n",
       "    .dataframe thead th {\n",
       "        text-align: right;\n",
       "    }\n",
       "</style>\n",
       "<table border=\"1\" class=\"dataframe\">\n",
       "  <thead>\n",
       "    <tr style=\"text-align: right;\">\n",
       "      <th></th>\n",
       "      <th>bedrooms</th>\n",
       "      <th>bathrooms</th>\n",
       "      <th>area</th>\n",
       "      <th>tax_value</th>\n",
       "      <th>year_built</th>\n",
       "      <th>taxamount</th>\n",
       "      <th>fips</th>\n",
       "      <th>tax_value_scaled</th>\n",
       "    </tr>\n",
       "  </thead>\n",
       "  <tbody>\n",
       "    <tr>\n",
       "      <th>1397104</th>\n",
       "      <td>4</td>\n",
       "      <td>3.0</td>\n",
       "      <td>1554</td>\n",
       "      <td>446970</td>\n",
       "      <td>1948</td>\n",
       "      <td>5363.83</td>\n",
       "      <td>6037</td>\n",
       "      <td>0.223487</td>\n",
       "    </tr>\n",
       "    <tr>\n",
       "      <th>1541311</th>\n",
       "      <td>2</td>\n",
       "      <td>2.0</td>\n",
       "      <td>1508</td>\n",
       "      <td>322750</td>\n",
       "      <td>1939</td>\n",
       "      <td>4087.51</td>\n",
       "      <td>6037</td>\n",
       "      <td>0.161373</td>\n",
       "    </tr>\n",
       "    <tr>\n",
       "      <th>349572</th>\n",
       "      <td>3</td>\n",
       "      <td>3.0</td>\n",
       "      <td>2775</td>\n",
       "      <td>754493</td>\n",
       "      <td>1962</td>\n",
       "      <td>8281.34</td>\n",
       "      <td>6037</td>\n",
       "      <td>0.377257</td>\n",
       "    </tr>\n",
       "    <tr>\n",
       "      <th>1956887</th>\n",
       "      <td>4</td>\n",
       "      <td>4.0</td>\n",
       "      <td>4361</td>\n",
       "      <td>1407000</td>\n",
       "      <td>1972</td>\n",
       "      <td>15008.38</td>\n",
       "      <td>6059</td>\n",
       "      <td>0.703529</td>\n",
       "    </tr>\n",
       "    <tr>\n",
       "      <th>1769654</th>\n",
       "      <td>4</td>\n",
       "      <td>2.0</td>\n",
       "      <td>2465</td>\n",
       "      <td>132915</td>\n",
       "      <td>1974</td>\n",
       "      <td>1840.82</td>\n",
       "      <td>6059</td>\n",
       "      <td>0.066450</td>\n",
       "    </tr>\n",
       "  </tbody>\n",
       "</table>\n",
       "</div>"
      ],
      "text/plain": [
       "         bedrooms  bathrooms  area  tax_value  year_built  taxamount  fips  \\\n",
       "1397104         4        3.0  1554     446970        1948    5363.83  6037   \n",
       "1541311         2        2.0  1508     322750        1939    4087.51  6037   \n",
       "349572          3        3.0  2775     754493        1962    8281.34  6037   \n",
       "1956887         4        4.0  4361    1407000        1972   15008.38  6059   \n",
       "1769654         4        2.0  2465     132915        1974    1840.82  6059   \n",
       "\n",
       "         tax_value_scaled  \n",
       "1397104          0.223487  \n",
       "1541311          0.161373  \n",
       "349572           0.377257  \n",
       "1956887          0.703529  \n",
       "1769654          0.066450  "
      ]
     },
     "execution_count": 12,
     "metadata": {},
     "output_type": "execute_result"
    }
   ],
   "source": [
    "train.head()"
   ]
  },
  {
   "cell_type": "code",
   "execution_count": 13,
   "id": "2e4ebf2d",
   "metadata": {},
   "outputs": [
    {
     "data": {
      "text/plain": [
       "Text(0, 0.5, 'Year Built')"
      ]
     },
     "execution_count": 13,
     "metadata": {},
     "output_type": "execute_result"
    },
    {
     "data": {
      "image/png": "[encoded data removed]",
      "text/plain": [
       "<Figure size 432x288 with 1 Axes>"
      ]
     },
     "metadata": {
      "needs_background": "light"
     },
     "output_type": "display_data"
    }
   ],
   "source": [
    "plt.scatter(df.tax_value, df.year_built)\n",
    "plt.xlabel('Tax Value')\n",
    "plt.ylabel('Year Built')"
   ]
  },
  {
   "cell_type": "code",
   "execution_count": 14,
   "id": "eb29dfea",
   "metadata": {},
   "outputs": [
    {
     "data": {
      "text/plain": [
       "Text(0, 0.5, 'Scaled Tax Value')"
      ]
     },
     "execution_count": 14,
     "metadata": {},
     "output_type": "execute_result"
    },
    {
     "data": {
      "image/png": "[encoded data removed]",
      "text/plain": [
       "<Figure size 432x288 with 1 Axes>"
      ]
     },
     "metadata": {
      "needs_background": "light"
     },
     "output_type": "display_data"
    }
   ],
   "source": [
    "# plot non scaled vs scaled\n",
    "\n",
    "plt.scatter(train.tax_value, scaled)\n",
    "plt.xlabel('Tax Value')\n",
    "plt.ylabel('Scaled Tax Value')"
   ]
  },
  {
   "cell_type": "code",
   "execution_count": 15,
   "id": "1c771ac0",
   "metadata": {},
   "outputs": [
    {
     "data": {
      "image/png": "[encoded data removed]",
      "text/plain": [
       "<Figure size 432x288 with 1 Axes>"
      ]
     },
     "metadata": {
      "needs_background": "light"
     },
     "output_type": "display_data"
    }
   ],
   "source": [
    "\n",
    "plt.hist(train.tax_value); "
   ]
  },
  {
   "cell_type": "code",
   "execution_count": 16,
   "id": "ed59bd45",
   "metadata": {},
   "outputs": [
    {
     "data": {
      "image/png": "[encoded data removed]",
      "text/plain": [
       "<Figure size 432x288 with 1 Axes>"
      ]
     },
     "metadata": {
      "needs_background": "light"
     },
     "output_type": "display_data"
    }
   ],
   "source": [
    "plt.hist(scaled);"
   ]
  },
  {
   "cell_type": "code",
   "execution_count": 17,
   "id": "cebb6cf3",
   "metadata": {},
   "outputs": [
    {
     "data": {
      "image/png": "[encoded data removed]",
      "text/plain": [
       "<Figure size 864x432 with 3 Axes>"
      ]
     },
     "metadata": {
      "needs_background": "light"
     },
     "output_type": "display_data"
    }
   ],
   "source": [
    "fig = plt.figure(figsize = (12,6))\n",
    "\n",
    "gs = plt.GridSpec(2,2)\n",
    "\n",
    "ax1 = fig.add_subplot(gs[0, :])\n",
    "ax2 = fig.add_subplot(gs[1,0])\n",
    "ax3 = fig.add_subplot(gs[1,1])\n",
    "\n",
    "ax1.scatter(train.tax_value, scaled)\n",
    "ax1.set(xlabel = 'tax_value', ylabel = 'Scaled_tax_value', title = 'Min-Max Scaler')\n",
    "\n",
    "ax2.hist(train.tax_value)\n",
    "ax2.set(title = 'Original')\n",
    "\n",
    "ax3.hist(scaled)\n",
    "ax3.set(title = 'Scaled')\n",
    "plt.tight_layout();"
   ]
  },
  {
   "cell_type": "code",
   "execution_count": 18,
   "id": "16d6c5ff",
   "metadata": {},
   "outputs": [],
   "source": [
    "def visualize_scaled_date(scaler, scaler_name, feature):\n",
    "    scaled = scaler.fit_transform(train[[feature]])\n",
    "    fig = plt.figure(figsize = (12,6))\n",
    "\n",
    "    gs = plt.GridSpec(2,2)\n",
    "\n",
    "    ax1 = fig.add_subplot(gs[0, :])\n",
    "    ax2 = fig.add_subplot(gs[1,0])\n",
    "    ax3 = fig.add_subplot(gs[1,1])\n",
    "\n",
    "    ax1.scatter(train[[feature]], scaled)\n",
    "    ax1.set(xlabel = feature, ylabel = 'Scaled_' + feature, title = scaler_name)\n",
    "\n",
    "    ax2.hist(train[[feature]])\n",
    "    ax2.set(title = 'Original')\n",
    "\n",
    "    ax3.hist(scaled)\n",
    "    ax3.set(title = 'Scaled')\n",
    "    plt.tight_layout();"
   ]
  },
  {
   "cell_type": "code",
   "execution_count": 19,
   "id": "975f0d8d",
   "metadata": {},
   "outputs": [
    {
     "data": {
      "image/png": "[encoded data removed]",
      "text/plain": [
       "<Figure size 864x432 with 3 Axes>"
      ]
     },
     "metadata": {
      "needs_background": "light"
     },
     "output_type": "display_data"
    }
   ],
   "source": [
    "# use the function created above for tax value\n",
    "\n",
    "visualize_scaled_date(sklearn.preprocessing.MinMaxScaler(), 'Min Max Scaler', 'tax_value')"
   ]
  },
  {
   "cell_type": "code",
   "execution_count": 20,
   "id": "6d402fab",
   "metadata": {},
   "outputs": [
    {
     "data": {
      "image/png": "[encoded data removed]",
      "text/plain": [
       "<Figure size 864x432 with 3 Axes>"
      ]
     },
     "metadata": {
      "needs_background": "light"
     },
     "output_type": "display_data"
    }
   ],
   "source": [
    "# visualize scaling for tenure\n",
    "\n",
    "visualize_scaled_date(sklearn.preprocessing.MinMaxScaler(), 'Min Max Scaler', 'taxamount')"
   ]
  },
  {
   "cell_type": "code",
   "execution_count": 21,
   "id": "71eadf97",
   "metadata": {},
   "outputs": [
    {
     "data": {
      "image/png": "[encoded data removed]",
      "text/plain": [
       "<Figure size 864x432 with 3 Axes>"
      ]
     },
     "metadata": {
      "needs_background": "light"
     },
     "output_type": "display_data"
    }
   ],
   "source": [
    "# visualize scaling for tax_value\n",
    "\n",
    "visualize_scaled_date(sklearn.preprocessing.StandardScaler(), 'Standard Scaler', 'tax_value')"
   ]
  },
  {
   "cell_type": "code",
   "execution_count": 22,
   "id": "9617acf5",
   "metadata": {},
   "outputs": [
    {
     "data": {
      "image/png": "[encoded data removed]",
      "text/plain": [
       "<Figure size 864x432 with 3 Axes>"
      ]
     },
     "metadata": {
      "needs_background": "light"
     },
     "output_type": "display_data"
    }
   ],
   "source": [
    "# visualize scaling for tax_amount\n",
    "\n",
    "visualize_scaled_date(sklearn.preprocessing.StandardScaler(), 'Standard Scaler', 'taxamount')"
   ]
  },
  {
   "cell_type": "code",
   "execution_count": 23,
   "id": "fd5f70e3",
   "metadata": {},
   "outputs": [
    {
     "data": {
      "image/png": "[encoded data removed]",
      "text/plain": [
       "<Figure size 864x432 with 3 Axes>"
      ]
     },
     "metadata": {
      "needs_background": "light"
     },
     "output_type": "display_data"
    }
   ],
   "source": [
    "visualize_scaled_date(sklearn.preprocessing.RobustScaler(), 'Robust Scaler', 'tax_value')"
   ]
  },
  {
   "cell_type": "code",
   "execution_count": 24,
   "id": "c5a0b817",
   "metadata": {},
   "outputs": [
    {
     "data": {
      "image/png": "[encoded data removed]",
      "text/plain": [
       "<Figure size 864x432 with 3 Axes>"
      ]
     },
     "metadata": {
      "needs_background": "light"
     },
     "output_type": "display_data"
    }
   ],
   "source": [
    "visualize_scaled_date(sklearn.preprocessing.RobustScaler(), 'Robust Scaler', 'taxamount')"
   ]
  },
  {
   "cell_type": "code",
   "execution_count": 26,
   "id": "23aaa7cc",
   "metadata": {},
   "outputs": [
    {
     "data": {
      "text/html": [
       "<div>\n",
       "<style scoped>\n",
       "    .dataframe tbody tr th:only-of-type {\n",
       "        vertical-align: middle;\n",
       "    }\n",
       "\n",
       "    .dataframe tbody tr th {\n",
       "        vertical-align: top;\n",
       "    }\n",
       "\n",
       "    .dataframe thead th {\n",
       "        text-align: right;\n",
       "    }\n",
       "</style>\n",
       "<table border=\"1\" class=\"dataframe\">\n",
       "  <thead>\n",
       "    <tr style=\"text-align: right;\">\n",
       "      <th></th>\n",
       "      <th>bedrooms</th>\n",
       "      <th>bathrooms</th>\n",
       "      <th>area</th>\n",
       "      <th>tax_value</th>\n",
       "      <th>year_built</th>\n",
       "      <th>taxamount</th>\n",
       "      <th>fips</th>\n",
       "      <th>tax_value_scaled</th>\n",
       "    </tr>\n",
       "  </thead>\n",
       "  <tbody>\n",
       "    <tr>\n",
       "      <th>1397104</th>\n",
       "      <td>4</td>\n",
       "      <td>3.0</td>\n",
       "      <td>1554</td>\n",
       "      <td>446970</td>\n",
       "      <td>1948</td>\n",
       "      <td>5363.83</td>\n",
       "      <td>6037</td>\n",
       "      <td>0.223487</td>\n",
       "    </tr>\n",
       "    <tr>\n",
       "      <th>1541311</th>\n",
       "      <td>2</td>\n",
       "      <td>2.0</td>\n",
       "      <td>1508</td>\n",
       "      <td>322750</td>\n",
       "      <td>1939</td>\n",
       "      <td>4087.51</td>\n",
       "      <td>6037</td>\n",
       "      <td>0.161373</td>\n",
       "    </tr>\n",
       "    <tr>\n",
       "      <th>349572</th>\n",
       "      <td>3</td>\n",
       "      <td>3.0</td>\n",
       "      <td>2775</td>\n",
       "      <td>754493</td>\n",
       "      <td>1962</td>\n",
       "      <td>8281.34</td>\n",
       "      <td>6037</td>\n",
       "      <td>0.377257</td>\n",
       "    </tr>\n",
       "    <tr>\n",
       "      <th>1956887</th>\n",
       "      <td>4</td>\n",
       "      <td>4.0</td>\n",
       "      <td>4361</td>\n",
       "      <td>1407000</td>\n",
       "      <td>1972</td>\n",
       "      <td>15008.38</td>\n",
       "      <td>6059</td>\n",
       "      <td>0.703529</td>\n",
       "    </tr>\n",
       "    <tr>\n",
       "      <th>1769654</th>\n",
       "      <td>4</td>\n",
       "      <td>2.0</td>\n",
       "      <td>2465</td>\n",
       "      <td>132915</td>\n",
       "      <td>1974</td>\n",
       "      <td>1840.82</td>\n",
       "      <td>6059</td>\n",
       "      <td>0.066450</td>\n",
       "    </tr>\n",
       "  </tbody>\n",
       "</table>\n",
       "</div>"
      ],
      "text/plain": [
       "         bedrooms  bathrooms  area  tax_value  year_built  taxamount  fips  \\\n",
       "1397104         4        3.0  1554     446970        1948    5363.83  6037   \n",
       "1541311         2        2.0  1508     322750        1939    4087.51  6037   \n",
       "349572          3        3.0  2775     754493        1962    8281.34  6037   \n",
       "1956887         4        4.0  4361    1407000        1972   15008.38  6059   \n",
       "1769654         4        2.0  2465     132915        1974    1840.82  6059   \n",
       "\n",
       "         tax_value_scaled  \n",
       "1397104          0.223487  \n",
       "1541311          0.161373  \n",
       "349572           0.377257  \n",
       "1956887          0.703529  \n",
       "1769654          0.066450  "
      ]
     },
     "execution_count": 26,
     "metadata": {},
     "output_type": "execute_result"
    }
   ],
   "source": [
    "train.head()"
   ]
  },
  {
   "cell_type": "code",
   "execution_count": 28,
   "id": "f9f77096",
   "metadata": {},
   "outputs": [
    {
     "data": {
      "text/plain": [
       "array([[0.66666667, 0.5       ],\n",
       "       [0.33333333, 0.33333333],\n",
       "       [0.5       , 0.5       ],\n",
       "       ...,\n",
       "       [0.5       , 0.33333333],\n",
       "       [0.5       , 0.16666667],\n",
       "       [0.66666667, 0.41666667]])"
      ]
     },
     "execution_count": 28,
     "metadata": {},
     "output_type": "execute_result"
    }
   ],
   "source": [
    "scaler = sklearn.preprocessing.MinMaxScaler()\n",
    "\n",
    "scaled = scaler.fit_transform(train[['bedrooms','bathrooms']])\n",
    "scaled"
   ]
  },
  {
   "cell_type": "code",
   "execution_count": 29,
   "id": "ae0f1dc9",
   "metadata": {},
   "outputs": [
    {
     "data": {
      "text/html": [
       "<div>\n",
       "<style scoped>\n",
       "    .dataframe tbody tr th:only-of-type {\n",
       "        vertical-align: middle;\n",
       "    }\n",
       "\n",
       "    .dataframe tbody tr th {\n",
       "        vertical-align: top;\n",
       "    }\n",
       "\n",
       "    .dataframe thead th {\n",
       "        text-align: right;\n",
       "    }\n",
       "</style>\n",
       "<table border=\"1\" class=\"dataframe\">\n",
       "  <thead>\n",
       "    <tr style=\"text-align: right;\">\n",
       "      <th></th>\n",
       "      <th>bedrooms</th>\n",
       "      <th>bathrooms</th>\n",
       "    </tr>\n",
       "  </thead>\n",
       "  <tbody>\n",
       "    <tr>\n",
       "      <th>1397104</th>\n",
       "      <td>0.666667</td>\n",
       "      <td>0.500000</td>\n",
       "    </tr>\n",
       "    <tr>\n",
       "      <th>1541311</th>\n",
       "      <td>0.333333</td>\n",
       "      <td>0.333333</td>\n",
       "    </tr>\n",
       "    <tr>\n",
       "      <th>349572</th>\n",
       "      <td>0.500000</td>\n",
       "      <td>0.500000</td>\n",
       "    </tr>\n",
       "    <tr>\n",
       "      <th>1956887</th>\n",
       "      <td>0.666667</td>\n",
       "      <td>0.666667</td>\n",
       "    </tr>\n",
       "    <tr>\n",
       "      <th>1769654</th>\n",
       "      <td>0.666667</td>\n",
       "      <td>0.333333</td>\n",
       "    </tr>\n",
       "  </tbody>\n",
       "</table>\n",
       "</div>"
      ],
      "text/plain": [
       "         bedrooms  bathrooms\n",
       "1397104  0.666667   0.500000\n",
       "1541311  0.333333   0.333333\n",
       "349572   0.500000   0.500000\n",
       "1956887  0.666667   0.666667\n",
       "1769654  0.666667   0.333333"
      ]
     },
     "execution_count": 29,
     "metadata": {},
     "output_type": "execute_result"
    }
   ],
   "source": [
    "scaled_df = pd.DataFrame(scaled, index = train.index, columns = ['bedrooms','bathrooms'])\n",
    "scaled_df.head()"
   ]
  },
  {
   "cell_type": "code",
   "execution_count": 30,
   "id": "40bd0ec4",
   "metadata": {},
   "outputs": [
    {
     "data": {
      "text/plain": [
       "array([[4. , 3. ],\n",
       "       [2. , 2. ],\n",
       "       [3. , 3. ],\n",
       "       ...,\n",
       "       [3. , 2. ],\n",
       "       [3. , 1. ],\n",
       "       [4. , 2.5]])"
      ]
     },
     "execution_count": 30,
     "metadata": {},
     "output_type": "execute_result"
    }
   ],
   "source": [
    "# use inverse_transform method\n",
    "\n",
    "scaler.inverse_transform(scaled_df)"
   ]
  },
  {
   "cell_type": "code",
   "execution_count": 31,
   "id": "eb84a6ce",
   "metadata": {},
   "outputs": [
    {
     "data": {
      "text/html": [
       "<div>\n",
       "<style scoped>\n",
       "    .dataframe tbody tr th:only-of-type {\n",
       "        vertical-align: middle;\n",
       "    }\n",
       "\n",
       "    .dataframe tbody tr th {\n",
       "        vertical-align: top;\n",
       "    }\n",
       "\n",
       "    .dataframe thead th {\n",
       "        text-align: right;\n",
       "    }\n",
       "</style>\n",
       "<table border=\"1\" class=\"dataframe\">\n",
       "  <thead>\n",
       "    <tr style=\"text-align: right;\">\n",
       "      <th></th>\n",
       "      <th>bedrooms</th>\n",
       "      <th>bathrooms</th>\n",
       "    </tr>\n",
       "  </thead>\n",
       "  <tbody>\n",
       "    <tr>\n",
       "      <th>1397104</th>\n",
       "      <td>4.0</td>\n",
       "      <td>3.0</td>\n",
       "    </tr>\n",
       "    <tr>\n",
       "      <th>1541311</th>\n",
       "      <td>2.0</td>\n",
       "      <td>2.0</td>\n",
       "    </tr>\n",
       "    <tr>\n",
       "      <th>349572</th>\n",
       "      <td>3.0</td>\n",
       "      <td>3.0</td>\n",
       "    </tr>\n",
       "    <tr>\n",
       "      <th>1956887</th>\n",
       "      <td>4.0</td>\n",
       "      <td>4.0</td>\n",
       "    </tr>\n",
       "    <tr>\n",
       "      <th>1769654</th>\n",
       "      <td>4.0</td>\n",
       "      <td>2.0</td>\n",
       "    </tr>\n",
       "  </tbody>\n",
       "</table>\n",
       "</div>"
      ],
      "text/plain": [
       "         bedrooms  bathrooms\n",
       "1397104       4.0        3.0\n",
       "1541311       2.0        2.0\n",
       "349572        3.0        3.0\n",
       "1956887       4.0        4.0\n",
       "1769654       4.0        2.0"
      ]
     },
     "execution_count": 31,
     "metadata": {},
     "output_type": "execute_result"
    }
   ],
   "source": [
    "# we can change numpy 2d array to a dataframe\n",
    "\n",
    "unscaled_df = pd.DataFrame(scaler.inverse_transform(scaled), index = train.index, columns = ['bedrooms','bathrooms'])\n",
    "unscaled_df.head()"
   ]
  },
  {
   "cell_type": "code",
   "execution_count": 32,
   "id": "b420747c",
   "metadata": {},
   "outputs": [
    {
     "data": {
      "image/png": "[encoded data removed]",
      "text/plain": [
       "<Figure size 864x432 with 3 Axes>"
      ]
     },
     "metadata": {
      "needs_background": "light"
     },
     "output_type": "display_data"
    }
   ],
   "source": [
    "#visualize monthly charges quantile transformation with 'normal' output\n",
    "\n",
    "visualize_scaled_date(sklearn.preprocessing.QuantileTransformer(output_distribution='normal'), 'Quantile Scaler', 'bedrooms')"
   ]
  },
  {
   "cell_type": "code",
   "execution_count": 33,
   "id": "5c8f2698",
   "metadata": {},
   "outputs": [
    {
     "data": {
      "image/png": "[encoded data removed]",
      "text/plain": [
       "<Figure size 864x432 with 3 Axes>"
      ]
     },
     "metadata": {
      "needs_background": "light"
     },
     "output_type": "display_data"
    }
   ],
   "source": [
    "#visualize monthly charges quantile transformation with 'uniform' output\n",
    "\n",
    "visualize_scaled_date(sklearn.preprocessing.QuantileTransformer(), 'Quantile Scaler', 'bedrooms')"
   ]
  },
  {
   "cell_type": "code",
   "execution_count": null,
   "id": "72340b19",
   "metadata": {},
   "outputs": [],
   "source": []
  }
 ],
 "metadata": {
  "kernelspec": {
   "display_name": "Python 3 (ipykernel)",
   "language": "python",
   "name": "python3"
  },
  "language_info": {
   "codemirror_mode": {
    "name": "ipython",
    "version": 3
   },
   "file_extension": ".py",
   "mimetype": "text/x-python",
   "name": "python",
   "nbconvert_exporter": "python",
   "pygments_lexer": "ipython3",
   "version": "3.9.7"
  }
 },
 "nbformat": 4,
 "nbformat_minor": 5
}
